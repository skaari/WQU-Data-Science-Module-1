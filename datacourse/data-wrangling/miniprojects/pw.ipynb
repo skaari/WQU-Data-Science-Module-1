{
 "cells": [
  {
   "cell_type": "code",
   "execution_count": 15,
   "metadata": {
    "init_cell": true
   },
   "outputs": [],
   "source": [
    "%logstop\n",
    "%logstart -rtq ~/.logs/pw.py append\n",
    "import seaborn as sns\n",
    "sns.set()"
   ]
  },
  {
   "cell_type": "code",
   "execution_count": 5,
   "metadata": {},
   "outputs": [],
   "source": [
    "from static_grader import grader"
   ]
  },
  {
   "cell_type": "markdown",
   "metadata": {},
   "source": [
    "# PW Miniproject\n",
    "## Introduction\n",
    "\n",
    "The objective of this miniproject is to exercise your ability to use basic Python data structures, define functions, and control program flow. We will be using these concepts to perform some fundamental data wrangling tasks such as joining data sets together, splitting data into groups, and aggregating data into summary statistics.\n",
    "**Please do not use `pandas` or `numpy` to answer these questions.**\n",
    "\n",
    "We will be working with medical data from the British NHS on prescription drugs. Since this is real data, it contains many ambiguities that we will need to confront in our analysis. This is commonplace in data science, and is one of the lessons you will learn in this miniproject."
   ]
  },
  {
   "cell_type": "markdown",
   "metadata": {},
   "source": [
    "## Downloading the data\n",
    "\n",
    "We first need to download the data we'll be using from Amazon S3:"
   ]
  },
  {
   "cell_type": "code",
   "execution_count": null,
   "metadata": {},
   "outputs": [],
   "source": [
    "%%bash\n",
    "mkdir pw-data\n",
    "wget http://dataincubator-wqu.s3.amazonaws.com/pwdata/201701scripts_sample.json.gz -nc -P ./pw-data\n",
    "wget http://dataincubator-wqu.s3.amazonaws.com/pwdata/practices.json.gz -nc -P ./pw-data"
   ]
  },
  {
   "cell_type": "markdown",
   "metadata": {},
   "source": [
    "## Loading the data\n",
    "\n",
    "The first step of the project is to read in the data. We will discuss reading and writing various kinds of files later in the course, but the code below should get you started."
   ]
  },
  {
   "cell_type": "code",
   "execution_count": 6,
   "metadata": {},
   "outputs": [],
   "source": [
    "import gzip\n",
    "import simplejson as json"
   ]
  },
  {
   "cell_type": "code",
   "execution_count": 7,
   "metadata": {},
   "outputs": [],
   "source": [
    "with gzip.open('./pw-data/201701scripts_sample.json.gz', 'rb') as f:\n",
    "    scripts = json.load(f)\n",
    "\n",
    "with gzip.open('./pw-data/practices.json.gz', 'rb') as f:\n",
    "    practices = json.load(f)"
   ]
  },
  {
   "cell_type": "markdown",
   "metadata": {},
   "source": [
    "This data set comes from Britain's National Health Service. The `scripts` variable is a list of prescriptions issued by NHS doctors. Each prescription is represented by a dictionary with various data fields: `'practice'`, `'bnf_code'`, `'bnf_name'`, `'quantity'`, `'items'`, `'nic'`, and `'act_cost'`. "
   ]
  },
  {
   "cell_type": "code",
   "execution_count": null,
   "metadata": {
    "scrolled": true
   },
   "outputs": [],
   "source": [
    "scripts[:2]"
   ]
  },
  {
   "cell_type": "markdown",
   "metadata": {},
   "source": [
    "The `practices` variable is a list of member medical practices of the NHS. Each practice is represented by a dictionary containing identifying information for the medical practice. Most of the data fields are self-explanatory. Notice the values in the `'code'` field of `practices` match the values in the `'practice'` field of `scripts`."
   ]
  },
  {
   "cell_type": "code",
   "execution_count": null,
   "metadata": {},
   "outputs": [],
   "source": [
    "practices[:2]"
   ]
  },
  {
   "cell_type": "markdown",
   "metadata": {},
   "source": [
    "In the following questions we will ask you to explore this data set. You may need to combine pieces of the data set together in order to answer some questions. Not every element of the data set will be used in answering the questions."
   ]
  },
  {
   "cell_type": "markdown",
   "metadata": {},
   "source": [
    "## Question 1: summary_statistics\n",
    "\n",
    "Our beneficiary data (`scripts`) contains quantitative data on the number of items dispensed (`'items'`), the total quantity of item dispensed (`'quantity'`), the net cost of the ingredients (`'nic'`), and the actual cost to the patient (`'act_cost'`). Whenever working with a new data set, it can be useful to calculate summary statistics to develop a feeling for the volume and character of the data. This makes it easier to spot trends and significant features during further stages of analysis.\n",
    "\n",
    "Calculate the sum, mean, standard deviation, and quartile statistics for each of these quantities. Format your results for each quantity as a list: `[sum, mean, standard deviation, 1st quartile, median, 3rd quartile]`. We'll create a `tuple` with these lists for each quantity as a final result."
   ]
  },
  {
   "cell_type": "code",
   "execution_count": 8,
   "metadata": {},
   "outputs": [],
   "source": [
    "import statistics as stat\n",
    "import math\n",
    "def describe(data, key):\n",
    "    \n",
    "    values=[]\n",
    "    for d in data:\n",
    "        values.append(d[key])\n",
    "\n",
    "    total = 0\n",
    "    avg = 0\n",
    "    s = 0\n",
    "    q25 = 0\n",
    "    med = 0\n",
    "    q75 = 0\n",
    "    \n",
    "    for v in values:\n",
    "        total=total+v\n",
    "    \n",
    "    avg=total/len(values)\n",
    "    \n",
    "    stotal=0\n",
    "    for v in values:\n",
    "        stotal=stotal+(v-avg)**2\n",
    "    s=math.sqrt(stotal/len(data))\n",
    "    \n",
    "    values.sort()\n",
    "    \n",
    "   \n",
    "    med=stat.median(values)\n",
    "    half_list=len(values)//2\n",
    "    q75=stat.median(values[-half_list:])\n",
    "    q25=stat.median(values[:half_list])\n",
    "    \n",
    "    \n",
    "\n",
    "    return (total, avg, s, q25, med, q75)"
   ]
  },
  {
   "cell_type": "code",
   "execution_count": 9,
   "metadata": {},
   "outputs": [],
   "source": [
    "summary = [('items', describe(scripts, 'items')),\n",
    "           ('quantity', describe(scripts, 'quantity')),\n",
    "           ('nic', describe(scripts, 'nic')),\n",
    "           ('act_cost', describe(scripts, 'act_cost'))]"
   ]
  },
  {
   "cell_type": "code",
   "execution_count": null,
   "metadata": {},
   "outputs": [],
   "source": []
  },
  {
   "cell_type": "code",
   "execution_count": null,
   "metadata": {},
   "outputs": [],
   "source": [
    "grader.score.pw__summary_statistics(summary)"
   ]
  },
  {
   "cell_type": "markdown",
   "metadata": {},
   "source": [
    "## Question 2: most_common_item\n",
    "\n",
    "Often we are not interested only in how the data is distributed in our entire data set, but within particular groups -- for example, how many items of each drug (i.e. `'bnf_name'`) were prescribed? Calculate the total items prescribed for each `'bnf_name'`. What is the most commonly prescribed `'bnf_name'` in our data?\n",
    "\n",
    "To calculate this, we first need to split our data set into groups corresponding with the different values of `'bnf_name'`. Then we can sum the number of items dispensed within in each group. Finally we can find the largest sum.\n",
    "\n",
    "We'll use `'bnf_name'` to construct our groups. You should have *5619* unique values for `'bnf_name'`."
   ]
  },
  {
   "cell_type": "code",
   "execution_count": 10,
   "metadata": {},
   "outputs": [],
   "source": [
    "bnf_set=list()\n",
    "for s in scripts:\n",
    "    \n",
    "    if s['bnf_name'] not in bnf_set:\n",
    "        bnf_set.append(s['bnf_name'])\n",
    "        \n",
    "    "
   ]
  },
  {
   "cell_type": "code",
   "execution_count": null,
   "metadata": {},
   "outputs": [],
   "source": [
    "len(bnf_set)"
   ]
  },
  {
   "cell_type": "code",
   "execution_count": 11,
   "metadata": {},
   "outputs": [],
   "source": [
    "\n",
    "bnf_names = bnf_set\n",
    "assert(len(bnf_names) == 5619)"
   ]
  },
  {
   "cell_type": "markdown",
   "metadata": {},
   "source": [
    "We want to construct \"groups\" identified by `'bnf_name'`, where each group is a collection of prescriptions (i.e. dictionaries from `scripts`). We'll construct a dictionary called `groups`, using `bnf_names` as the keys. We'll represent a group with a `list`, since we can easily append new members to the group. To split our `scripts` into groups by `'bnf_name'`, we should iterate over `scripts`, appending prescription dictionaries to each group as we encounter them."
   ]
  },
  {
   "cell_type": "code",
   "execution_count": 12,
   "metadata": {},
   "outputs": [],
   "source": [
    "groups = {name: [] for name in bnf_names}\n",
    "for script in scripts:\n",
    "    groups[script['bnf_name']].append(script)\n",
    "    "
   ]
  },
  {
   "cell_type": "code",
   "execution_count": null,
   "metadata": {},
   "outputs": [],
   "source": [
    "groups[bnf_names[0]]"
   ]
  },
  {
   "cell_type": "markdown",
   "metadata": {},
   "source": [
    "Now that we've constructed our groups we should sum up `'items'` in each group and find the `'bnf_name'` with the largest sum. The result, `max_item`, should have the form `[(bnf_name, item total)]`, e.g. `[('Foobar', 2000)]`."
   ]
  },
  {
   "cell_type": "code",
   "execution_count": 13,
   "metadata": {},
   "outputs": [],
   "source": [
    "max_item = [(\"\", 0)]\n",
    "temp={}\n",
    "for key,values in groups.items():\n",
    "    \n",
    "    total_items=0\n",
    "    for v in values:\n",
    "        total_items=total_items+v['items']\n",
    "    temp[key]=total_items\n",
    "    \n",
    "\n",
    "    "
   ]
  },
  {
   "cell_type": "code",
   "execution_count": 14,
   "metadata": {},
   "outputs": [],
   "source": [
    "fin_max = max(temp, key=temp.get)"
   ]
  },
  {
   "cell_type": "code",
   "execution_count": null,
   "metadata": {},
   "outputs": [],
   "source": [
    "temp[bnf_names[0]]"
   ]
  },
  {
   "cell_type": "code",
   "execution_count": null,
   "metadata": {},
   "outputs": [],
   "source": [
    "fin_max"
   ]
  },
  {
   "cell_type": "code",
   "execution_count": 15,
   "metadata": {},
   "outputs": [],
   "source": [
    "max_item = [(fin_max, temp[fin_max])]"
   ]
  },
  {
   "cell_type": "code",
   "execution_count": null,
   "metadata": {},
   "outputs": [],
   "source": [
    "max_item"
   ]
  },
  {
   "cell_type": "markdown",
   "metadata": {},
   "source": [
    "**TIP:** If you are getting an error from the grader below, please make sure your answer conforms to the correct format of `[(bnf_name, item total)]`."
   ]
  },
  {
   "cell_type": "code",
   "execution_count": null,
   "metadata": {},
   "outputs": [],
   "source": [
    "grader.score.pw__most_common_item(max_item)"
   ]
  },
  {
   "cell_type": "markdown",
   "metadata": {},
   "source": [
    "**Challenge:** Write a function that constructs groups as we did above. The function should accept a list of dictionaries (e.g. `scripts` or `practices`) and a tuple of fields to `groupby` (e.g. `('bnf_name',)` or `('bnf_name', 'post_code')`) and returns a dictionary of groups. The following questions will require you to aggregate data in groups, so this could be a useful function for the rest of the miniproject."
   ]
  },
  {
   "cell_type": "code",
   "execution_count": 16,
   "metadata": {},
   "outputs": [],
   "source": [
    "\n",
    "def group_by_field(data, fields):\n",
    "    groups={}\n",
    "    for field in fields:\n",
    "        for script in scripts:\n",
    "            if script[field] not in groups:\n",
    "                groups[script[field]]=[script]\n",
    "            else:\n",
    "                groups[script[field]].append(script)\n",
    "            \n",
    "    \n",
    "            \n",
    "    return groups"
   ]
  },
  {
   "cell_type": "code",
   "execution_count": null,
   "metadata": {},
   "outputs": [],
   "source": [
    "group_by_field(scripts, ('bnf_name',))"
   ]
  },
  {
   "cell_type": "code",
   "execution_count": null,
   "metadata": {},
   "outputs": [],
   "source": [
    "groups = group_by_field(scripts, ('bnf_name',))\n",
    "groups[bnf_names[0]]"
   ]
  },
  {
   "cell_type": "code",
   "execution_count": 17,
   "metadata": {},
   "outputs": [],
   "source": [
    "groups = group_by_field(scripts, ('bnf_name',))\n",
    "temp={}\n",
    "for key,values in groups.items():\n",
    "    \n",
    "    total_items=0\n",
    "    for v in values:\n",
    "        total_items=total_items+v['items']\n",
    "    temp[key]=total_items\n",
    "    \n",
    "fin_max = max(temp, key=temp.get)\n",
    "test_max_item =  [(fin_max, temp[fin_max])]\n",
    "\n",
    "assert test_max_item == max_item"
   ]
  },
  {
   "cell_type": "code",
   "execution_count": null,
   "metadata": {},
   "outputs": [],
   "source": []
  },
  {
   "cell_type": "code",
   "execution_count": null,
   "metadata": {},
   "outputs": [],
   "source": []
  },
  {
   "cell_type": "markdown",
   "metadata": {},
   "source": [
    "## Question 3: postal_totals\n",
    "\n",
    "Our data set is broken up among different files. This is typical for tabular data to reduce redundancy. Each table typically contains data about a particular type of event, processes, or physical object. Data on prescriptions and medical practices are in separate files in our case. If we want to find the total items prescribed in each postal code, we will have to _join_ our prescription data (`scripts`) to our clinic data (`practices`).\n",
    "\n",
    "Find the total items prescribed in each postal code, representing the results as a list of tuples `(post code, total items prescribed)`. Sort your results ascending alphabetically by post code and take only results from the first 100 post codes. Only include post codes if there is at least one prescription from a practice in that post code.\n",
    "\n",
    "**NOTE:** Some practices have multiple postal codes associated with them. Use the alphabetically first postal code."
   ]
  },
  {
   "cell_type": "markdown",
   "metadata": {},
   "source": [
    "We can join `scripts` and `practices` based on the fact that `'practice'` in `scripts` matches `'code'` in `practices`. However, we must first deal with the repeated values of `'code'` in `practices`. We want the alphabetically first postal codes."
   ]
  },
  {
   "cell_type": "code",
   "execution_count": 18,
   "metadata": {},
   "outputs": [],
   "source": [
    "practice_postal = {}\n",
    "for practice in practices:\n",
    "    if practice['code'] in practice_postal:\n",
    "        practice_postal[practice['code']] = min(practice_postal[practice['code']],practice['post_code'])\n",
    "    else:\n",
    "        practice_postal[practice['code']] = practice['post_code']"
   ]
  },
  {
   "cell_type": "code",
   "execution_count": 19,
   "metadata": {},
   "outputs": [
    {
     "data": {
      "text/plain": [
       "'HP21 8TR'"
      ]
     },
     "execution_count": 19,
     "metadata": {},
     "output_type": "execute_result"
    }
   ],
   "source": [
    "practice_postal[\"K82019\"]"
   ]
  },
  {
   "cell_type": "markdown",
   "metadata": {},
   "source": [
    "**Challenge:** This is an aggregation of the practice data grouped by practice codes. Write an alternative implementation of the above cell using the `group_by_field` function you defined previously."
   ]
  },
  {
   "cell_type": "code",
   "execution_count": 20,
   "metadata": {},
   "outputs": [],
   "source": [
    "assert practice_postal['K82019'] == 'HP21 8TR'"
   ]
  },
  {
   "cell_type": "markdown",
   "metadata": {},
   "source": [
    "Now we can join `practice_postal` to `scripts`."
   ]
  },
  {
   "cell_type": "code",
   "execution_count": 21,
   "metadata": {},
   "outputs": [],
   "source": [
    "joined = scripts[:]\n",
    "for script in joined:\n",
    "    script['post_code'] = practice_postal[script[\"practice\"]]"
   ]
  },
  {
   "cell_type": "code",
   "execution_count": 22,
   "metadata": {},
   "outputs": [
    {
     "data": {
      "text/plain": [
       "[{'bnf_code': '0101010G0AAABAB',\n",
       "  'items': 2,\n",
       "  'practice': 'N81013',\n",
       "  'bnf_name': 'Co-Magaldrox_Susp 195mg/220mg/5ml S/F',\n",
       "  'nic': 5.98,\n",
       "  'act_cost': 5.56,\n",
       "  'quantity': 1000,\n",
       "  'post_code': 'SK11 6JL'},\n",
       " {'bnf_code': '0101021B0AAAHAH',\n",
       "  'items': 1,\n",
       "  'practice': 'N81013',\n",
       "  'bnf_name': 'Alginate_Raft-Forming Oral Susp S/F',\n",
       "  'nic': 1.95,\n",
       "  'act_cost': 1.82,\n",
       "  'quantity': 500,\n",
       "  'post_code': 'SK11 6JL'}]"
      ]
     },
     "execution_count": 22,
     "metadata": {},
     "output_type": "execute_result"
    }
   ],
   "source": [
    "joined[:2]"
   ]
  },
  {
   "cell_type": "markdown",
   "metadata": {},
   "source": [
    "Finally we'll group the prescription dictionaries in `joined` by `'post_code'` and sum up the items prescribed in each group, as we did in the previous question."
   ]
  },
  {
   "cell_type": "code",
   "execution_count": 23,
   "metadata": {},
   "outputs": [],
   "source": [
    "items_by_post = group_by_field(joined,(\"post_code\",))"
   ]
  },
  {
   "cell_type": "code",
   "execution_count": 25,
   "metadata": {},
   "outputs": [],
   "source": [
    "temp={}\n",
    "for key,values in items_by_post.items():\n",
    "    \n",
    "    total_items=0\n",
    "    for v in values:\n",
    "        total_items=total_items+v['items']\n",
    "    temp[key]=total_items"
   ]
  },
  {
   "cell_type": "code",
   "execution_count": null,
   "metadata": {},
   "outputs": [],
   "source": [
    "temp"
   ]
  },
  {
   "cell_type": "code",
   "execution_count": null,
   "metadata": {},
   "outputs": [],
   "source": [
    "len(temp)"
   ]
  },
  {
   "cell_type": "code",
   "execution_count": 26,
   "metadata": {},
   "outputs": [],
   "source": [
    "results=[]\n",
    "for k,v in temp.items():\n",
    "    if v>0:\n",
    "        results.append((k,v))"
   ]
  },
  {
   "cell_type": "code",
   "execution_count": 27,
   "metadata": {},
   "outputs": [],
   "source": [
    "results.sort()"
   ]
  },
  {
   "cell_type": "code",
   "execution_count": null,
   "metadata": {},
   "outputs": [],
   "source": [
    "postal_totals = [('B11 4BW', 20673)] * 100\n",
    "\n",
    "\n",
    "grader.score.pw__postal_totals(results[:100])"
   ]
  },
  {
   "cell_type": "markdown",
   "metadata": {},
   "source": [
    "## Question 4: items_by_region\n",
    "\n",
    "Now we'll combine the techniques we've developed to answer a more complex question. Find the most commonly dispensed item in each postal code, representing the results as a list of tuples (`post_code`, `bnf_name`, amount dispensed as proportion of total). Sort your results ascending alphabetically by post code and take only results from the first 100 post codes.\n",
    "\n",
    "**NOTE:** We'll continue to use the `joined` variable we created before, where we've chosen the alphabetically first postal code for each practice. Additionally, some postal codes will have multiple `'bnf_name'` with the same number of items prescribed for the maximum. In this case, we'll take the alphabetically first `'bnf_name'`.\n",
    "\n",
    "There are several approaches to solve this problem but we will guide you through one of them. Feel free to solve it your own way if it is easier for you to understand and implement. If your kernel keeps on dying, it's probably an indication that you are running out of memory. Consider deleting objects you don't need anymore using the `del` statement and shutdown any other running notebooks. For example:\n",
    "```Python\n",
    "del some_object_not_needed\n",
    "```"
   ]
  },
  {
   "cell_type": "markdown",
   "metadata": {},
   "source": [
    "The first step is to calculate the total items for each `'post_code'` and `'bnf_name'`. Let's call that result `total_items_by_post_bnf`. Consider what is the best data structure(s) to represent `total_items_by_post_bnf`. It should have 141196 `('post_code', 'bnf_name')` groups."
   ]
  },
  {
   "cell_type": "code",
   "execution_count": 28,
   "metadata": {},
   "outputs": [
    {
     "data": {
      "text/plain": [
       "[{'bnf_code': '0101010G0AAABAB',\n",
       "  'items': 2,\n",
       "  'practice': 'N81013',\n",
       "  'bnf_name': 'Co-Magaldrox_Susp 195mg/220mg/5ml S/F',\n",
       "  'nic': 5.98,\n",
       "  'act_cost': 5.56,\n",
       "  'quantity': 1000,\n",
       "  'post_code': 'SK11 6JL'},\n",
       " {'bnf_code': '0101021B0AAAHAH',\n",
       "  'items': 1,\n",
       "  'practice': 'N81013',\n",
       "  'bnf_name': 'Alginate_Raft-Forming Oral Susp S/F',\n",
       "  'nic': 1.95,\n",
       "  'act_cost': 1.82,\n",
       "  'quantity': 500,\n",
       "  'post_code': 'SK11 6JL'}]"
      ]
     },
     "execution_count": 28,
     "metadata": {},
     "output_type": "execute_result"
    }
   ],
   "source": [
    "joined[:2]"
   ]
  },
  {
   "cell_type": "code",
   "execution_count": 29,
   "metadata": {},
   "outputs": [],
   "source": [
    "group_by_post=group_by_field(joined,(\"post_code\",))"
   ]
  },
  {
   "cell_type": "code",
   "execution_count": 30,
   "metadata": {},
   "outputs": [
    {
     "data": {
      "text/plain": [
       "dict"
      ]
     },
     "execution_count": 30,
     "metadata": {},
     "output_type": "execute_result"
    }
   ],
   "source": [
    "type(group_by_post)"
   ]
  },
  {
   "cell_type": "code",
   "execution_count": 38,
   "metadata": {},
   "outputs": [],
   "source": [
    "from collections import defaultdict\n",
    "final={}\n",
    "for k,v in group_by_post.items():\n",
    "    unique_bnf=defaultdict(int)\n",
    "    for value in v:\n",
    "        unique_bnf[value[\"bnf_name\"]]=unique_bnf[value[\"bnf_name\"]]+value[\"items\"]\n",
    "        \n",
    "    final[k]=unique_bnf\n",
    "    \n",
    "        \n",
    "            \n",
    "    "
   ]
  },
  {
   "cell_type": "code",
   "execution_count": 40,
   "metadata": {},
   "outputs": [
    {
     "data": {
      "text/plain": [
       "defaultdict(int,\n",
       "            {'Co-Magaldrox_Susp 195mg/220mg/5ml S/F': 5,\n",
       "             'Alginate_Raft-Forming Oral Susp S/F': 3,\n",
       "             'Sod Algin/Pot Bicarb_Susp S/F': 94,\n",
       "             'Sod Alginate/Pot Bicarb_Tab Chble 500mg': 9,\n",
       "             'Gaviscon Infant_Sach 2g (Dual Pack) S/F': 41,\n",
       "             'Gaviscon Advance_Liq (Aniseed) (Reckitt)': 98,\n",
       "             'Gaviscon Advance_Tab Chble Mint(Reckitt)': 16,\n",
       "             'Gaviscon Advance_Liq (Peppermint) S/F': 65,\n",
       "             'Peptac_Liq (Peppermint) S/F': 14,\n",
       "             'Alverine Cit_Cap 60mg': 10,\n",
       "             'Hyoscine Butylbrom_Inj 20mg/ml 1ml Amp': 3,\n",
       "             'Hyoscine Butylbrom_Tab 10mg': 153,\n",
       "             'Mebeverine HCl_Tab 135mg': 84,\n",
       "             'Mebeverine HCl_Cap 200mg M/R': 194,\n",
       "             'Peppermint Oil_Cap E/C 0.2ml': 42,\n",
       "             'Peppermint Oil_Cap E/C 0.2ml M/R': 5,\n",
       "             'Colpermin_Cap E/C 0.2ml M/R': 6,\n",
       "             'Ispag/Mebeverine_Gran Eff 3.5g/135mg S/F': 10,\n",
       "             'Fybogel Mebeverine_Eff Gran Sach S/F': 8,\n",
       "             'Ranitidine HCl_Tab 150mg': 360,\n",
       "             'Ranitidine HCl_Tab 300mg': 77,\n",
       "             'Ranitidine HCl_Oral Soln 75mg/5ml S/F': 25,\n",
       "             'Esomeprazole_Tab E/C 20mg': 70,\n",
       "             'Esomeprazole_Tab E/C 40mg': 53,\n",
       "             'Emozul_Cap E/C 20mg': 41,\n",
       "             'Emozul_Cap E/C 40mg': 25,\n",
       "             'Lansoprazole_Cap 30mg (E/C Gran)': 1952,\n",
       "             'Lansoprazole_Cap 15mg (E/C Gran)': 738,\n",
       "             'Lansoprazole_Orodisper Tab 15mg': 21,\n",
       "             'Lansoprazole_Orodisper Tab 30mg': 76,\n",
       "             'Zoton_FasTab Tab 30mg': 4,\n",
       "             'Omeprazole_Cap E/C 20mg': 3219,\n",
       "             'Omeprazole_Cap E/C 40mg': 76,\n",
       "             'Omeprazole_Cap E/C 10mg': 147,\n",
       "             'Omeprazole_Tab E/C 20mg': 9,\n",
       "             'Omeprazole_Oral Susp 10mg/5ml': 2,\n",
       "             'Losec_Cap E/C 20mg': 5,\n",
       "             'Pantoprazole_Tab E/C 40mg': 32,\n",
       "             'Pantoprazole_Tab E/C 20mg': 25,\n",
       "             'Loperamide HCl_Cap 2mg': 137,\n",
       "             'Loperamide HCl_Oral Soln 1mg/5ml S/F': 7,\n",
       "             'Loperamide HCl_Tab 2mg': 16,\n",
       "             'Mesalazine_Tab 500mg M/R': 4,\n",
       "             'Mesalazine_Suppos 1g': 4,\n",
       "             'Mesalazine_Gran Sach 2g M/R S/F': 2,\n",
       "             'Pentasa SR_Tab 500mg': 12,\n",
       "             'Pentasa_Suppos 1g': 7,\n",
       "             'Pentasa_Gran Sach 1g M/R': 2,\n",
       "             'Mezavant XL_Tab G/R 1.2g': 6,\n",
       "             'Octasa_MR Tab E/C 800mg': 57,\n",
       "             'Octasa_MR Tab E/C 400mg': 34,\n",
       "             'Balsalazide Sod_Cap 750mg': 5,\n",
       "             'Sulfasalazine_Tab 500mg': 16,\n",
       "             'Salazopyrin-En_Tab 500mg': 45,\n",
       "             'Prednisolone_20mg/Applic Foam Enema(14D)': 4,\n",
       "             'Ispag Husk_Gran Eff Sach 3.5g G/F S/F': 153,\n",
       "             'Fybogel_Gran Sach 3.5g Orange G/F S/F': 37,\n",
       "             'Normacol Plus_Gran': 8,\n",
       "             'Bisacodyl_Tab E/C 5mg': 241,\n",
       "             'Docusate Sod_Cap 100mg': 519,\n",
       "             \"Glycerol_Suppos Infant's (1g)\": 4,\n",
       "             \"Glycerol_Suppos Adult's (4g)\": 10,\n",
       "             'Senna_Tab 7.5mg': 219,\n",
       "             'Sod Picosulf_Oral Soln 5mg/5ml S/F': 27,\n",
       "             'Lactulose_Soln 3.1g-3.7g/5ml': 230,\n",
       "             'Macrogol_Co Oral Pdr Sach S/F': 96,\n",
       "             'Movicol_Pdr Sach 13.8g (Lem & Lim)': 25,\n",
       "             'Movicol Plain_Pdr Sach 13.7g': 12,\n",
       "             'Movicol Plain_Paed Pdr Sach 6.9g': 63,\n",
       "             'Laxido_Oral Pdr Sach (Orange) S/F': 463,\n",
       "             'Laxido_Paed Plain Oral Pdr Sach 6.9g': 21,\n",
       "             'Molaxole_Pdr Sach': 5,\n",
       "             'Phos Enem_(For B) 128ml Stnd Tube': 3,\n",
       "             'Anusol HC_Oint': 12,\n",
       "             'Scheriproct_Oint': 46,\n",
       "             'Scheriproct_Suppos': 37,\n",
       "             'Ursodeoxycholic Acid_Cap 250mg': 20,\n",
       "             'Creon 25000_Cap E/C': 26,\n",
       "             'Creon 10000_Cap E/C': 31,\n",
       "             'Digoxin_Tab 62.5mcg': 142,\n",
       "             'Digoxin_Tab 125mcg': 131,\n",
       "             'Digoxin_Tab 250mcg': 21,\n",
       "             'Bendroflumethiazide_Tab 2.5mg': 933,\n",
       "             'Indapamide_Tab 2.5mg': 201,\n",
       "             'Indapamide_Tab 1.5mg M/R': 174,\n",
       "             'Bumetanide_Tab 1mg': 225,\n",
       "             'Bumetanide_Tab 5mg': 5,\n",
       "             'Furosemide_Tab 20mg': 432,\n",
       "             'Furosemide_Tab 40mg': 756,\n",
       "             'Amiloride HCl_Tab 5mg': 15,\n",
       "             'Spironol_Tab 25mg': 208,\n",
       "             'Spironol_Tab 50mg': 37,\n",
       "             'Spironol_Tab 100mg': 34,\n",
       "             'Eplerenone_Tab 25mg': 71,\n",
       "             'Eplerenone_Tab 50mg': 12,\n",
       "             'Co-Amilofruse_Tab 5mg/40mg': 18,\n",
       "             'Co-Amilofruse_Tab 2.5mg/20mg': 16,\n",
       "             'Amiodarone HCl_Tab 100mg': 9,\n",
       "             'Amiodarone HCl_Tab 200mg': 41,\n",
       "             'Flecainide Acet_Tab 100mg': 18,\n",
       "             'Flecainide Acet_Tab 50mg': 28,\n",
       "             'Atenolol_Tab 50mg': 517,\n",
       "             'Atenolol_Tab 100mg': 93,\n",
       "             'Atenolol_Tab 25mg': 302,\n",
       "             'Tenormin L.S._Tab 50mg': 4,\n",
       "             'Bisoprolol Fumar_Tab 5mg': 353,\n",
       "             'Bisoprolol Fumar_Tab 10mg': 223,\n",
       "             'Bisoprolol Fumar_Tab 2.5mg': 634,\n",
       "             'Bisoprolol Fumar_Tab 3.75mg': 91,\n",
       "             'Bisoprolol Fumar_Tab 7.5mg': 63,\n",
       "             'Bisoprolol Fumar_Tab 1.25mg': 582,\n",
       "             'Cardicor_Tab 1.25mg': 2,\n",
       "             'Labetalol HCl_Tab 200mg': 3,\n",
       "             'Metoprolol Tart_Tab 50mg': 19,\n",
       "             'Propranolol HCl_Cap 80mg M/R': 213,\n",
       "             'Propranolol HCl_Cap 160mg M/R': 63,\n",
       "             'Propranolol HCl_Tab 10mg': 301,\n",
       "             'Propranolol HCl_Tab 40mg': 350,\n",
       "             'Propranolol HCl_Tab 80mg': 19,\n",
       "             'Sotalol HCl_Tab 40mg': 19,\n",
       "             'Co-Tenidone_Tab 50mg/12.5mg': 12,\n",
       "             'Carvedilol_Tab 12.5mg': 13,\n",
       "             'Carvedilol_Tab 25mg': 27,\n",
       "             'Carvedilol_Tab 6.25mg': 11,\n",
       "             'Methyldopa_Tab 250mg': 10,\n",
       "             'Methyldopa_Tab 500mg': 5,\n",
       "             'Moxonidine_Tab 200mcg': 23,\n",
       "             'Doxazosin Mesil_Tab 1mg': 106,\n",
       "             'Doxazosin Mesil_Tab 2mg': 253,\n",
       "             'Doxazosin Mesil_Tab 4mg': 381,\n",
       "             'Doxazosin Mesil_Tab 4mg M/R': 47,\n",
       "             'Doxazosin Mesil_Tab 8mg M/R': 45,\n",
       "             'Captopril_Tab 50mg': 3,\n",
       "             'Enalapril Mal_Tab 2.5mg': 7,\n",
       "             'Enalapril Mal_Tab 5mg': 16,\n",
       "             'Enalapril Mal_Tab 10mg': 21,\n",
       "             'Enalapril Mal_Tab 20mg': 64,\n",
       "             'Lisinopril/Hydchloroth_Tab 20mg/12.5mg': 22,\n",
       "             'Lisinopril_Tab 2.5mg': 89,\n",
       "             'Lisinopril_Tab 5mg': 236,\n",
       "             'Lisinopril_Tab 10mg': 447,\n",
       "             'Lisinopril_Tab 20mg': 757,\n",
       "             'Perindopril Erbumine_Tab 2mg': 55,\n",
       "             'Perindopril Erbumine_Tab 4mg': 98,\n",
       "             'Perindopril Erbumine_Tab 8mg': 168,\n",
       "             'Ramipril_Cap 1.25mg': 293,\n",
       "             'Ramipril_Cap 2.5mg': 573,\n",
       "             'Ramipril_Cap 5mg': 548,\n",
       "             'Ramipril_Cap 10mg': 1449,\n",
       "             'Ramipril_Tab 1.25mg': 9,\n",
       "             'Ramipril_Tab 2.5mg': 17,\n",
       "             'Ramipril_Tab 10mg': 4,\n",
       "             'Trandolapril_Cap 2mg': 2,\n",
       "             'Irbesartan/Hydchloroth_Tab 150mg/12.5mg': 2,\n",
       "             'Candesartan Cilexetil_Tab 4mg': 124,\n",
       "             'Candesartan Cilexetil_Tab 8mg': 184,\n",
       "             'Candesartan Cilexetil_Tab 16mg': 127,\n",
       "             'Candesartan Cilexetil_Tab 32mg': 70,\n",
       "             'Irbesartan_Tab 75mg': 7,\n",
       "             'Irbesartan_Tab 300mg': 36,\n",
       "             'Losartan Pot_Tab 25mg': 247,\n",
       "             'Losartan Pot_Tab 50mg': 417,\n",
       "             'Losartan Pot_Tab 100mg': 566,\n",
       "             'Losartan Pot/Hydchloroth_Tab 50mg/12.5mg': 6,\n",
       "             'Telmisartan_Tab 80mg': 5,\n",
       "             'Valsartan_Cap 40mg': 17,\n",
       "             'Valsartan_Cap 80mg': 18,\n",
       "             'Valsartan_Cap 160mg': 25,\n",
       "             'Valsartan/Hydchloroth_Tab 80mg/12.5mg': 2,\n",
       "             'Glyceryl Trinit_Sub P/Spy 400mcg (180D)': 57,\n",
       "             'Glyceryl Trinit_Sub P/Spy 400mcg (200D)': 4,\n",
       "             'Nitrolingual_P/Spy 400mcg (180 D)': 4,\n",
       "             'Nitromin_P/Spy 400mcg (180 D)': 43,\n",
       "             'Isosorbide Mononit_Tab 10mg': 23,\n",
       "             'Isosorbide Mononit_Tab 20mg': 14,\n",
       "             'Isosorbide Mononit_Cap 60mg M/R': 2,\n",
       "             'Isosorbide Mononit_Tab 25mg M/R': 5,\n",
       "             'Isotard 60 XL_Tab 60mg': 5,\n",
       "             'Isotard 40 XL_Tab 40mg': 16,\n",
       "             'Isotard 50 XL_Tab 50mg': 5,\n",
       "             'Monomax XL_Tab 60mg': 49,\n",
       "             'Monomil XL_Tab 60mg': 208,\n",
       "             'Amlodipine_Tab 5mg': 1301,\n",
       "             'Amlodipine_Tab 10mg': 1116,\n",
       "             'Diltiazem HCl_Cap 120mg M/R': 8,\n",
       "             'Diltiazem HCl_Cap 180mg M/R': 3,\n",
       "             'Diltiazem HCl_Cap 200mg M/R': 7,\n",
       "             'Tildiem_Tab 60mg': 7,\n",
       "             'Tildiem Ret 90_Tab 90mg': 4,\n",
       "             'Tildiem LA 200_Cap 200mg': 28,\n",
       "             'Adizem-SR_Cap 120mg': 3,\n",
       "             'Adizem-XL_Cap 120mg': 18,\n",
       "             'Adizem-XL_Cap 180mg': 10,\n",
       "             'Felodipine_Tab 5mg M/R': 248,\n",
       "             'Felodipine_Tab 10mg M/R': 276,\n",
       "             'Felodipine_Tab 2.5mg M/R': 163,\n",
       "             'Lacidipine_Tab 4mg': 3,\n",
       "             'Lercanidipine HCl_Tab 10mg': 188,\n",
       "             'Lercanidipine HCl_Tab 20mg': 136,\n",
       "             'Nifedipine_Cap 5mg': 11,\n",
       "             'Nifedipine_Cap 10mg': 9,\n",
       "             'Nifedipine_Tab 30mg M/R': 7,\n",
       "             'Nifedipine_Tab 60mg M/R': 2,\n",
       "             'Nifedipine_Tab 20mg M/R': 8,\n",
       "             'Adalat Ret_Tab 10mg': 16,\n",
       "             'Adalat LA 30_Tab 30mg': 51,\n",
       "             'Adalat LA 60_Tab 60mg': 64,\n",
       "             'Adalat LA 20_Tab 20mg': 30,\n",
       "             'Verapamil HCl_Tab 40mg': 21,\n",
       "             'Verapamil HCl_Tab 80mg': 8,\n",
       "             'Verapamil HCl_Tab 120mg M/R': 32,\n",
       "             'Nicorandil_Tab 10mg': 92,\n",
       "             'Nicorandil_Tab 20mg': 38,\n",
       "             'Ivabradine_Tab 5mg': 58,\n",
       "             'Ivabradine_Tab 7.5mg': 13,\n",
       "             'Tinzaparin Sod_Inj 20 000u/ml 0.6ml Pfs': 2,\n",
       "             'Warfarin Sod_Tab 1mg': 569,\n",
       "             'Warfarin Sod_Tab 3mg': 500,\n",
       "             'Warfarin Sod_Tab 5mg': 125,\n",
       "             'Warfarin Sod_Tab 500mcg': 17,\n",
       "             'Dabigatran Etexilate_Cap 110mg': 8,\n",
       "             'Rivaroxaban_Tab 20mg': 239,\n",
       "             'Apixaban_Tab 2.5mg': 88,\n",
       "             'Apixaban_Tab 5mg': 171,\n",
       "             'Aspirin Disper_Tab 75mg': 1955,\n",
       "             'Aspirin_Tab 75mg': 336,\n",
       "             'Aspirin_Tab E/C 75mg': 134,\n",
       "             'Clopidogrel_Tab 75mg': 910,\n",
       "             'Dipyridamole_Cap 200mg M/R': 48,\n",
       "             'Ticagrelor_Tab 90mg': 56,\n",
       "             'Tranexamic Acid_Tab 500mg': 36,\n",
       "             'Rosuvastatin Calc_Tab 10mg': 60,\n",
       "             'Rosuvastatin Calc_Tab 20mg': 42,\n",
       "             'Rosuvastatin Calc_Tab 5mg': 44,\n",
       "             'Omacor_Cap': 5,\n",
       "             'Atorvastatin_Tab 10mg': 465,\n",
       "             'Atorvastatin_Tab 20mg': 1349,\n",
       "             'Atorvastatin_Tab 40mg': 1021,\n",
       "             'Atorvastatin_Tab 80mg': 590,\n",
       "             'Bezafibrate_Tab 400mg M/R': 65,\n",
       "             'Questran Light_Sach 9g (4g Of Ingredient': 6,\n",
       "             'Ezetimibe_Tab 10mg': 133,\n",
       "             'Fenofibrate_Cap 200mg (Micronised)': 12,\n",
       "             'Fenofibrate_Cap 67mg (Micronised)': 5,\n",
       "             'Fenofibrate_Cap 267mg (Micronised)': 12,\n",
       "             'Fenofibrate_Tab 160mg (Micronised)': 31,\n",
       "             'Pravastatin Sod_Tab 10mg': 52,\n",
       "             'Pravastatin Sod_Tab 20mg': 132,\n",
       "             'Pravastatin Sod_Tab 40mg': 431,\n",
       "             'Simvastatin_Tab 10mg': 126,\n",
       "             'Simvastatin_Tab 20mg': 760,\n",
       "             'Simvastatin_Tab 40mg': 1908,\n",
       "             'Simvastatin_Tab 80mg': 51,\n",
       "             'Salbutamol_Inha 100mcg (200 D) CFF': 699,\n",
       "             'Salbutamol_Pdr For Inh 200mcg (60 D)': 10,\n",
       "             'Salbutamol_Inha B/A 100mcg (200 D) CFF': 44,\n",
       "             'Ventolin_Accuhaler 200mcg (60 D)': 15,\n",
       "             'Ventolin_Evohaler 100mcg (200 D)': 1117,\n",
       "             'Ventolin_Nebules Soln 2.5mg/2.5ml Ud': 18,\n",
       "             'Salamol_Inha 100mcg (200 D) CFF (Teva)': 6,\n",
       "             'Salamol E-Breathe_Inh 100mcg (200 D) CFF': 15,\n",
       "             'Salmeterol_Pdr For Inh 50mcg (60 D)': 5,\n",
       "             'Salmeterol_Inha 25mcg (120 D) CFF': 36,\n",
       "             'Serevent_Evohaler 25mcg (120 D)': 5,\n",
       "             'Terbut Sulf_B/A Inha 500mcg (100 D)': 69,\n",
       "             'Bricanyl_Turbohaler 500mcg (100 D)': 33,\n",
       "             'Ipratrop Brom_Inha 20mcg (200 D) CFF': 37,\n",
       "             'Atrovent_Inha 20mcg (200 D) CFF': 6,\n",
       "             'Tiotropium_Pdr For Inh Cap 18mcg + Dev': 29,\n",
       "             'Tiotropium_Pdr For Inh Cap 18mcg': 212,\n",
       "             'Spiriva_Pdr For Inh Cap 18mcg': 95,\n",
       "             'Spiriva Respimat_Inha 2.5mcg (60D) + Dev': 5,\n",
       "             'Aclidinium Brom_Pdr For Inh 375mcg (60D)': 17,\n",
       "             'Incruse Ellipta_Inh 55mcg (30D)': 78,\n",
       "             'Phyllocontin Continus_Tab 225mg': 72,\n",
       "             'Phyllocontin Fte Continus_Tab 350mg': 6,\n",
       "             'Uniphyllin Continus_Tab 300mg': 7,\n",
       "             'Beclomet Diprop_Inha 100mcg (200 D) CFF': 8,\n",
       "             'Beclomet Diprop/Formoterol_Inh100/6(120D': 41,\n",
       "             'Clenil Modulite_Inha 50mcg (200D)': 32,\n",
       "             'Clenil Modulite_Inha 100mcg (200D)': 248,\n",
       "             'Clenil Modulite_Inha 200mcg (200D)': 119,\n",
       "             'Clenil Modulite_Inha 250mcg (200D)': 11,\n",
       "             'Fostair_Inh 100mcg/6mcg (120D) CFF': 118,\n",
       "             'Fostair_Inh 200mcg/6mcg (120D) CFF': 5,\n",
       "             'Fostair NEXThaler_Inh 100mcg/6mcg (120D)': 8,\n",
       "             'Budesonide_Pdr For Inh 200mcg (100 D)': 14,\n",
       "             'Budesonide_Pdr For Inh 400mcg (50 D)': 3,\n",
       "             'Budesonide/Formoterol Inh B/A 100/6(120D': 12,\n",
       "             'Budesonide/Formoterol Inh B/A 200/6(120D': 10,\n",
       "             'Pulmicort_Turbohaler 400mcg (50 D)': 4,\n",
       "             'Symbicort_Turbohaler 100mcg/6mcg (120 D)': 18,\n",
       "             'Symbicort_Turbohaler 200mcg/6mcg (120 D)': 214,\n",
       "             'Symbicort_Turbohaler 400mcg/12mcg (60 D)': 59,\n",
       "             'DuoResp Spiromax_Inh 160mcg/4.5mcg(120D)': 243,\n",
       "             'DuoResp Spiromax_Inh 320mcg/9mcg (60 D)': 88,\n",
       "             'Fluticasone Prop_Pdr For Inh 250mcg(60D)': 2,\n",
       "             'Fluticasone/Salmeterol_Inh 100/50mcg 60D': 5,\n",
       "             'Fluticasone/Salmeterol_Inh 250/50mcg 60D': 15,\n",
       "             'Fluticasone/Salmeterol_Inh 500/50mcg 60D': 4,\n",
       "             'Fluticasone Prop_Inha 125mcg (120 D) CFF': 5,\n",
       "             'Fluticasone Prop_Inha 250mcg (120 D) CFF': 8,\n",
       "             'Fluticasone/Salmeterol_Inh 125/25mcg120D': 17,\n",
       "             'Fluticasone/Salmeterol_Inh 250/25mcg120D': 15,\n",
       "             'Fluticasone Prop_Inha 50mcg (120 D) CFF': 7,\n",
       "             'Fluticasone/Formoterol_Inh 125/5mcg 120D': 14,\n",
       "             'Fluticasone/Formoterol_Inh 250/10mcg120D': 33,\n",
       "             'Seretide 250_Accuhaler 250mcg/50mcg(60D)': 19,\n",
       "             'Seretide 500_Accuhaler 500mcg/50mcg(60D)': 85,\n",
       "             'Seretide 125_Evohaler 125mcg/25mcg(120D)': 36,\n",
       "             'Seretide 250_Evohaler 250mcg/25mcg(120D)': 36,\n",
       "             'Flutiform_Inha 125/5mcg (120 D)': 11,\n",
       "             'Flutiform_Inha 250/10mcg (120 D)': 17,\n",
       "             'Sirdupla_Inh 125mcg/25mcg (120D)': 65,\n",
       "             'Sirdupla_Inh 250mcg/25mcg (120D)': 56,\n",
       "             'AirFluSal Forspiro_Inh 500/50mcg (60D)': 12,\n",
       "             'Fluticasone/Vilanterol_Inha 92/22mcg 30D': 3,\n",
       "             'Montelukast_Tab Chble 5mg S/F': 16,\n",
       "             'Montelukast_Tab 10mg': 133,\n",
       "             'Zafirlukast_Tab 20mg': 6,\n",
       "             'Desloratadine_Tab 5mg': 19,\n",
       "             'Levocetirizine_Tab 5mg': 11,\n",
       "             'Acrivastine_Cap 8mg': 3,\n",
       "             'Loratadine_Tab 10mg': 286,\n",
       "             'Loratadine_Oral Soln 5mg/5ml': 16,\n",
       "             'Fexofenadine HCl_Tab 120mg': 53,\n",
       "             'Fexofenadine HCl_Tab 180mg': 87,\n",
       "             'Chlorphenamine Mal_Oral Soln 2mg/5ml': 15,\n",
       "             'Chlorphenamine Mal_Tab 4mg': 58,\n",
       "             'Cetirizine HCl_Tab 10mg': 339,\n",
       "             'Cetirizine HCl_Oral Soln 1mg/1ml S/F': 19,\n",
       "             'Hydroxyzine HCl_Tab 10mg': 10,\n",
       "             'Hydroxyzine HCl_Tab 25mg': 32,\n",
       "             'Epipen_Auto-Inj 1/1000 1mg/ml 0.3ml': 21,\n",
       "             'Carbocisteine_Cap 375mg': 137,\n",
       "             'Carbocisteine_Oral Soln 250mg/5ml': 16,\n",
       "             'Pholcodine_Linct 5mg/5ml': 9,\n",
       "             'Simple_Linct S/F': 5,\n",
       "             'Pseudoephed HCl_Tab 60mg': 3,\n",
       "             'Melatonin_Tab 2mg M/R': 34,\n",
       "             'Circadin_Tab 2mg M/R': 10,\n",
       "             'Lormetazepam_Tab 1mg': 6,\n",
       "             'Nitrazepam_Tab 5mg': 123,\n",
       "             'Temazepam_Tab 10mg': 57,\n",
       "             'Zolpidem Tart_Tab 5mg': 59,\n",
       "             'Zolpidem Tart_Tab 10mg': 70,\n",
       "             'Zopiclone_Tab 7.5mg': 382,\n",
       "             'Zopiclone_Tab 3.75mg': 211,\n",
       "             'Buspirone HCl_Tab 5mg': 28,\n",
       "             'Buspirone HCl_Tab 10mg': 9,\n",
       "             'Chlordiazepox HCl_Cap 5mg': 3,\n",
       "             'Diazepam_Tab 2mg': 308,\n",
       "             'Diazepam_Tab 5mg': 176,\n",
       "             'Diazepam_Tab 10mg': 18,\n",
       "             'Diazepam_Oral Soln 2mg/5ml S/F': 6,\n",
       "             'Lorazepam_Tab 1mg': 107,\n",
       "             'Quetiapine_Tab 25mg': 198,\n",
       "             'Quetiapine_Tab 100mg': 100,\n",
       "             'Quetiapine_Tab 200mg': 52,\n",
       "             'Quetiapine_Tab 150mg': 31,\n",
       "             'Quetiapine_Tab 300mg': 76,\n",
       "             'Biquelle XL_Tab 150mg': 6,\n",
       "             'Aripiprazole_Tab 10mg': 17,\n",
       "             'Aripiprazole_Tab 15mg': 4,\n",
       "             'Amisulpride_Tab 200mg': 24,\n",
       "             'Chlorpromazine HCl_Tab 25mg': 14,\n",
       "             'Chlorpromazine HCl_Tab 50mg': 14,\n",
       "             'Haloperidol_Tab 1.5mg': 7,\n",
       "             'Haloperidol_Tab 5mg': 4,\n",
       "             'Haloperidol_Oral Soln 1mg/1ml S/F': 2,\n",
       "             'Promazine HCl_Tab 25mg': 7,\n",
       "             'Trifluoperazine_Tab 1mg': 6,\n",
       "             'Risperidone_Tab 1mg': 63,\n",
       "             'Risperidone_Tab 2mg': 25,\n",
       "             'Risperidone_Tab 4mg': 14,\n",
       "             'Risperidone_Tab 500mcg': 62,\n",
       "             'Olanzapine_Tab 5mg': 118,\n",
       "             'Olanzapine_Tab 7.5mg': 28,\n",
       "             'Olanzapine_Tab 10mg': 141,\n",
       "             'Olanzapine_Tab 2.5mg': 54,\n",
       "             'Olanzapine_Tab 15mg': 26,\n",
       "             'Olanzapine_Orodisper Tab 10mg S/F': 2,\n",
       "             'Olanzapine_Orodisper Tab 15mg': 2,\n",
       "             'Lithium Carb_Tab 400mg M/R': 3,\n",
       "             'Lithium Carb_Tab 200mg M/R': 3,\n",
       "             'Priadel_Tab 400mg': 119,\n",
       "             'Priadel_Tab 200mg': 87,\n",
       "             'Valproic Acid_Tab G/R 250mg': 13,\n",
       "             'Valproic Acid_Tab G/R 500mg': 17,\n",
       "             'Depakote_Tab G/R 250mg': 44,\n",
       "             'Depakote_Tab G/R 500mg': 44,\n",
       "             'Amitriptyline HCl_Tab 10mg': 775,\n",
       "             'Amitriptyline HCl_Tab 25mg': 302,\n",
       "             'Amitriptyline HCl_Tab 50mg': 228,\n",
       "             'Clomipramine HCl_Cap 10mg': 15,\n",
       "             'Clomipramine HCl_Cap 25mg': 13,\n",
       "             'Clomipramine HCl_Cap 50mg': 22,\n",
       "             'Dosulepin HCl_Cap 25mg': 46,\n",
       "             'Dosulepin HCl_Tab 75mg': 44,\n",
       "             'Imipramine HCl_Tab 10mg': 3,\n",
       "             'Lofepramine HCl_Tab 70mg': 14,\n",
       "             'Nortriptyline_Tab 10mg': 81,\n",
       "             'Nortriptyline_Tab 25mg': 24,\n",
       "             'Trazodone HCl_Cap 50mg': 80,\n",
       "             'Trazodone HCl_Cap 100mg': 51,\n",
       "             'Trazodone HCl_Oral Liq 50mg/5ml S/F': 5,\n",
       "             'Citalopram Hydrob_Tab 20mg': 1070,\n",
       "             'Citalopram Hydrob_Tab 10mg': 497,\n",
       "             'Citalopram Hydrob_Tab 40mg': 211,\n",
       "             'Fluoxetine HCl_Cap 20mg': 640,\n",
       "             'Fluoxetine HCl_Cap 40mg': 7,\n",
       "             'Fluvoxamine Mal_Tab 50mg': 2,\n",
       "             'Paroxetine HCl_Tab 20mg': 92,\n",
       "             'Paroxetine HCl_Tab 30mg': 29,\n",
       "             'Paroxetine HCl_Tab 10mg': 8,\n",
       "             'Sertraline HCl_Tab 50mg': 815,\n",
       "             'Sertraline HCl_Tab 100mg': 776,\n",
       "             'Lustral_Tab 100mg': 5,\n",
       "             'Escitalopram_Tab 10mg': 48,\n",
       "             'Escitalopram_Tab 20mg': 22,\n",
       "             'Citalopram HCl_Oral Dps 40mg/ml S/F': 7,\n",
       "             'Reboxetine_Tab 4mg': 5,\n",
       "             'Venlafaxine_Tab 37.5mg': 70,\n",
       "             'Venlafaxine_Tab 75mg': 51,\n",
       "             'Venlafaxine_Tab 225mg M/R': 38,\n",
       "             'Venlafaxine_Tab 37.5mg M/R': 10,\n",
       "             'Efexor XL_Cap 150mg': 7,\n",
       "             'Vensir XL_Cap 75mg': 164,\n",
       "             'Vensir XL_Cap 150mg': 201,\n",
       "             'Vensir XL_Cap 225mg': 16,\n",
       "             'Venaxx XL_Cap 150mg': 10,\n",
       "             'Mirtazapine_Tab 30mg': 294,\n",
       "             'Mirtazapine_Orodisper Tab 15mg': 10,\n",
       "             'Mirtazapine_Orodisper Tab 45mg': 20,\n",
       "             'Mirtazapine_Tab 15mg': 443,\n",
       "             'Mirtazapine_Tab 45mg': 374,\n",
       "             'Duloxetine HCl_Cap G/R 30mg': 65,\n",
       "             'Duloxetine HCl_Cap G/R 60mg': 112,\n",
       "             'Methylphenidate HCl_Tab 20mg': 2,\n",
       "             'Methylphenidate HCl_Tab 18mg M/R': 4,\n",
       "             'Methylphenidate HCl_Tab 36mg M/R': 4,\n",
       "             'Equasym XL_Cap 10mg': 3,\n",
       "             'Equasym XL_Cap 20mg': 4,\n",
       "             'Equasym XL_Cap 30mg': 6,\n",
       "             'Concerta_XL Tab 54mg': 2,\n",
       "             'Modafinil_Tab 200mg': 2,\n",
       "             'Atomoxetine HCl_Cap 10mg': 3,\n",
       "             'Atomoxetine HCl_Cap 60mg': 2,\n",
       "             'Lisdexamfetamine_Cap 50mg': 4,\n",
       "             'Lisdexamfetamine_Cap 70mg': 5,\n",
       "             'Elvanse_Cap 70mg': 2,\n",
       "             'Elvanse_Cap 40mg': 4,\n",
       "             'Orlistat_Cap 120mg': 35,\n",
       "             'Hyoscine_Skin Patch 1mg/72hrs': 5,\n",
       "             'Betahistine HCl_Tab 8mg': 66,\n",
       "             'Betahistine HCl_Tab 16mg': 51,\n",
       "             'Cinnarizine_Tab 15mg': 19,\n",
       "             'Cyclizine HCl_Tab 50mg': 122,\n",
       "             'Domperidone_Susp 5mg/5ml S/F': 7,\n",
       "             'Domperidone_Tab 10mg': 39,\n",
       "             'Hyoscine Hydrob_Tab 150mcg': 2,\n",
       "             'Hyoscine Hydrob_Tab 300mcg': 37,\n",
       "             'Metoclopramide HCl_Tab 10mg': 44,\n",
       "             'Ondansetron HCl_Tab 4mg': 12,\n",
       "             'Prochlpzine Mal_Tab 5mg': 135,\n",
       "             'Prochlpzine Mal_Tab Buccal 3mg': 32,\n",
       "             'Aspirin Disper_Tab 300mg': 4,\n",
       "             'Co-Codamol_Tab 8mg/500mg': 313,\n",
       "             'Co-Codamol Eff_Tab 8mg/500mg': 31,\n",
       "             'Co-Codamol_Tab 30mg/500mg': 184,\n",
       "             'Co-Codamol_Tab 15mg/500mg': 90,\n",
       "             'Solpadol_Tab Eff 30mg/500mg': 11,\n",
       "             'Zapain_Tab 30mg/500mg': 929,\n",
       "             'Zapain_Cap 30mg/500mg': 64,\n",
       "             'Paracet_Cap 500mg': 77,\n",
       "             'Paracet_Tab 500mg': 1564,\n",
       "             'Paracet_Tab Solb 500mg': 39,\n",
       "             'Paracet_Oral Susp 250mg/5ml S/F': 97,\n",
       "             'Co-Dydramol_Tab 10mg/500mg': 81,\n",
       "             'Paracet/Dihydrocodeine_Tab 500mg/20mg': 6,\n",
       "             'Oxycodone HCl_Oral Soln 5mg/5ml S/F': 27,\n",
       "             'Longtec_Tab 5mg M/R': 22,\n",
       "             'Longtec_Tab 10mg M/R': 40,\n",
       "             'Longtec_Tab 20mg M/R': 35,\n",
       "             'Longtec_Tab 40mg M/R': 22,\n",
       "             'Longtec_Tab 30mg M/R': 8,\n",
       "             'Shortec_Cap 5mg': 42,\n",
       "             'Shortec_Cap 20mg': 14,\n",
       "             'Fentanyl_Transdermal Patch 12mcg/hr': 8,\n",
       "             'Durogesic DTrans_T/Derm Patch 25mcg': 2,\n",
       "             'Durogesic DTrans_T/Derm Patch 12mcg': 2,\n",
       "             'Matrifen_Patch 12mcg/hr': 27,\n",
       "             'Matrifen_Patch 25mcg/hr': 17,\n",
       "             'Matrifen_Patch 50mcg/hr': 12,\n",
       "             'Matrifen_Patch 100mcg/hr': 4,\n",
       "             'Fencino_Transdermal Patch 12mcg/hr': 27,\n",
       "             'Fencino_Transdermal Patch 25mcg/hr': 31,\n",
       "             'Fencino_Transdermal Patch 50mcg/hr': 17,\n",
       "             'Buprenorphine_Tab Subling 200mcg S/F': 7,\n",
       "             'Buprenorphine_Tab Subling 400mcg S/F': 8,\n",
       "             'Buprenorphine_Patch 35mcg/hr (96hr)': 6,\n",
       "             'Buprenorphine_Patch 70mcg/hr (96hr)': 3,\n",
       "             'Transtec_T/Derm Patch 35mcg/hr (20mg)': 3,\n",
       "             'Butec_Transdermal Patch 5mcg/hr': 65,\n",
       "             'Butec_Transdermal Patch 10mcg/hr': 88,\n",
       "             'Butec_Transdermal Patch 20mcg/hr': 23,\n",
       "             'Codeine Phos_Oral Soln 25mg/5ml': 2,\n",
       "             'Codeine Phos_Tab 15mg': 144,\n",
       "             'Codeine Phos_Tab 30mg': 264,\n",
       "             'Dihydrocodeine Tart_Tab 30mg': 72,\n",
       "             'Dihydrocodeine Tart_Tab 60mg M/R': 7,\n",
       "             'Dihydrocodeine Tart_Tab 120mg M/R': 5,\n",
       "             'Morph Sulf_Tab 5mg M/R': 3,\n",
       "             'Morph Sulf_Oral Soln 10mg/5ml': 118,\n",
       "             'Oramorph_Oral Soln 10mg/5ml': 38,\n",
       "             'Zomorph_Cap 10mg': 41,\n",
       "             'Zomorph_Cap 30mg': 33,\n",
       "             'Zomorph_Cap 60mg': 14,\n",
       "             'Tramadol HCl_Cap 50mg': 557,\n",
       "             'Tramadol HCl_Cap 100mg M/R': 4,\n",
       "             'Tramadol HCl/Paracet_Tab 37.5mg/325mg': 3,\n",
       "             'Marol_Tab 200mg M/R (Teva)': 14,\n",
       "             'Marol_Tab 150mg M/R (Teva)': 14,\n",
       "             'Marol_Tab 100mg M/R (Teva)': 34,\n",
       "             'Maxitram SR_Cap 50mg': 3,\n",
       "             'Migraleve_Pink Tab': 5,\n",
       "             'Rizatriptan_Oral Lyophilisate Tab 10mg': 3,\n",
       "             'Rizatriptan_Orodisper Tab 10mg S/F': 15,\n",
       "             'Sumatriptan_Tab 100mg': 26,\n",
       "             'Sumatriptan_Inj 6mg/0.5ml Pfs + Dev': 4,\n",
       "             'Sumatriptan_Tab 50mg': 119,\n",
       "             'Sumatriptan_Aq Nsl Spy 20mg/0.1ml Ud': 5,\n",
       "             'Zolmitriptan_Tab 2.5mg': 41,\n",
       "             'Zolmitriptan_Orodisper Tab 2.5mg S/F': 14,\n",
       "             'Zomig_Rapimelt Orodisper Tab 2.5mg': 3,\n",
       "             'Clonidine HCl_Tab 25mcg': 35,\n",
       "             'Pizotifen Malate_Tab 500mcg': 22,\n",
       "             'Zonisamide_Cap 100mg': 15,\n",
       "             'Zonegran_Cap 50mg': 2,\n",
       "             'Zonegran_Cap 100mg': 3,\n",
       "             'Pregabalin_Cap 50mg': 14,\n",
       "             'Lyrica_Cap 25mg': 32,\n",
       "             'Lyrica_Cap 50mg': 59,\n",
       "             'Lyrica_Cap 75mg': 94,\n",
       "             'Lyrica_Cap 100mg': 38,\n",
       "             'Lyrica_Cap 150mg': 122,\n",
       "             'Lyrica_Cap 200mg': 16,\n",
       "             'Lyrica_Cap 300mg': 86,\n",
       "             'Levetiracetam_Tab 250mg': 45,\n",
       "             'Levetiracetam_Tab 500mg': 77,\n",
       "             'Levetiracetam_Tab 1g': 17,\n",
       "             'Levetiracetam_Oral Soln 500mg/5ml S/F': 13,\n",
       "             'Keppra_Tab 250mg': 18,\n",
       "             'Keppra_Tab 500mg': 28,\n",
       "             'Keppra_Tab 1g': 16,\n",
       "             'Carbamazepine_Tab 100mg': 34,\n",
       "             'Carbamazepine_Tab 200mg': 14,\n",
       "             'Tegretol_Tab 200mg': 23,\n",
       "             'Tegretol Prolonged Release_Tab 200mg M/R': 53,\n",
       "             'Tegretol Prolonged Release_Tab 400mg M/R': 30,\n",
       "             'Clonazepam_Tab 500mcg': 84,\n",
       "             'Clonazepam_Tab 2mg': 18,\n",
       "             'Gabapentin_Cap 100mg': 200,\n",
       "             'Gabapentin_Cap 300mg': 511,\n",
       "             'Gabapentin_Cap 400mg': 20,\n",
       "             'Gabapentin_Tab 600mg': 53,\n",
       "             'Lamotrigine_Tab 100mg': 81,\n",
       "             'Lamotrigine_Tab 50mg': 79,\n",
       "             'Lamotrigine_Tab 25mg': 48,\n",
       "             'Lamotrigine_Tab Disper 5mg S/F': 10,\n",
       "             'Lamotrigine_Tab Disper 25mg S/F': 4,\n",
       "             'Lamotrigine_Tab Disper 100mg S/F': 5,\n",
       "             'Lamotrigine_Tab 200mg': 27,\n",
       "             'Lamictal_Tab 50mg': 58,\n",
       "             'Lamictal_Tab 100mg': 73,\n",
       "             'Lamictal_Tab 25mg': 27,\n",
       "             'Phenobarb_Tab 60mg': 5,\n",
       "             'Phenytoin_Sod Cap 100mg': 48,\n",
       "             'Phenytoin_Sod Cap 50mg': 15,\n",
       "             'Phenytoin_Sod Cap 300mg': 10,\n",
       "             'Sod Valpr_Tab E/C 200mg': 18,\n",
       "             'Sod Valpr_Tab E/C 500mg': 9,\n",
       "             'Sod Valpr_Tab 200mg M/R': 16,\n",
       "             'Sod Valpr_Tab 300mg M/R': 37,\n",
       "             'Sod Valpr_Tab 500mg M/R': 39,\n",
       "             'Epilim_Crble Tab 100mg': 5,\n",
       "             'Epilim 200_Tab E/C 200mg': 29,\n",
       "             'Epilim 500_Tab E/C 500mg': 22,\n",
       "             'Epilim Chrono 200_Tab 200mg C/R': 50,\n",
       "             'Epilim Chrono 300_Tab 300mg C/R': 60,\n",
       "             'Epilim Chrono 500_Tab 500mg C/R': 87,\n",
       "             'Episenta_Cap 300mg M/R': 3,\n",
       "             'Topiramate_Tab 50mg': 22,\n",
       "             'Topiramate_Tab 100mg': 22,\n",
       "             'Topiramate_Tab 200mg': 9,\n",
       "             'Topiramate_Tab 25mg': 24,\n",
       "             'Clobazam_Tab 10mg': 50,\n",
       "             'Ropinirole HCl_Tab 1mg': 6,\n",
       "             'Ropinirole HCl_Tab 2mg': 14,\n",
       "             'Ipinnia XL_Tab 8mg': 4,\n",
       "             'Co-Beneldopa_Cap 12.5mg/50mg': 3,\n",
       "             'Co-Beneldopa_Tab Disper 12.5mg/50mg S/F': 5,\n",
       "             'Sinemet_Tab 25mg/250mg': 7,\n",
       "             'Sinemet-Plus_Tab 125mg': 62,\n",
       "             'Half Sinemet CR_Tab 125mg': 8,\n",
       "             'Sinemet_Tab 12.5mg/50mg': 19,\n",
       "             'Entacapone_Tab 200mg': 9,\n",
       "             'Pramipexole_Tab 180mcg': 10,\n",
       "             'Rasagiline Mesil_Tab 1mg': 41,\n",
       "             'Rotigotine_Transdermal Patch 2mg/24hrs': 5,\n",
       "             'Trihexyphenidyl HCl_Tab 2mg': 8,\n",
       "             'Orphenadrine HCl_Oral Soln 50mg/5ml S/F': 2,\n",
       "             'Procyclidine HCl_Tab 5mg': 117,\n",
       "             'Bupropion HCl_Tab 150mg M/R': 2,\n",
       "             'Varenicline Tart_Tab 1mg': 10,\n",
       "             'Varenicline Tart_2Wk Init(Tab 0.5mg/1mg)': 7,\n",
       "             'Buprenorphine_Tab Subling 2mg S/F': 8,\n",
       "             'Methadone HCl_Mix 1mg/1ml': 5,\n",
       "             'Methadone HCl_Mix 1mg/1ml S/F': 78,\n",
       "             'Donepezil HCl_Tab 10mg': 281,\n",
       "             'Rivastigmine_Cap 3mg': 11,\n",
       "             'Gatalin XL_Cap 24mg': 33,\n",
       "             'Memantine HCl_Tab 10mg': 29,\n",
       "             'Memantine HCl_Tab 20mg': 68,\n",
       "             'Phenoxymethylpenicillin_Soln 125mg/5ml': 41,\n",
       "             'Phenoxymethylpenicillin_Soln 250mg/5ml': 32,\n",
       "             'Phenoxymethylpenicillin Pot_Tab 250mg': 163,\n",
       "             'Fluclox Sod_Cap 250mg': 12,\n",
       "             'Fluclox Sod_Cap 500mg': 272,\n",
       "             'Fluclox Sod_Oral Soln 125mg/5ml': 26,\n",
       "             'Amoxicillin_Cap 250mg': 7,\n",
       "             'Amoxicillin_Cap 500mg': 783,\n",
       "             'Amoxicillin_Oral Susp 125mg/5ml': 3,\n",
       "             'Amoxicillin_Oral Susp 250mg/5ml': 18,\n",
       "             'Amoxicillin_Oral Susp 125mg/5ml S/F': 36,\n",
       "             'Amoxicillin_Oral Susp 250mg/5ml S/F': 110,\n",
       "             'Co-Amoxiclav_Susp 125mg/31mg/5ml S/F': 5,\n",
       "             'Co-Amoxiclav_Tab 500mg/125mg': 53,\n",
       "             'Pivmecillinam HCl_Tab 200mg': 91,\n",
       "             'Cefalexin_Cap 250mg': 14,\n",
       "             'Cefalexin_Cap 500mg': 46,\n",
       "             'Cefalexin_Oral Susp 250mg/5ml': 7,\n",
       "             'Cefalexin_Tab 250mg': 5,\n",
       "             'Doxycycline Hyclate_Cap 100mg': 412,\n",
       "             'Lymecycline_Cap 408mg': 36,\n",
       "             'Tetralysal 300_Cap': 76,\n",
       "             'Oxytetracycline_Tab 250mg': 16,\n",
       "             'Azithromycin_Oral Susp 200mg/5ml': 18,\n",
       "             'Azithromycin_Tab 250mg': 44,\n",
       "             'Clarithromycin_Tab 250mg': 16,\n",
       "             'Clarithromycin_Oral Susp 125mg/5ml': 23,\n",
       "             'Clarithromycin_Tab 500mg': 268,\n",
       "             'Erythromycin_Tab E/C 250mg': 37,\n",
       "             'Erythromycin_Ethylsuc Susp 250mg/5ml S/F': 11,\n",
       "             'Clindamycin HCl_Cap 150mg': 2,\n",
       "             'Co-Trimoxazole_Tab 80mg/400mg': 5,\n",
       "             'Trimethoprim_Tab 100mg': 46,\n",
       "             'Trimethoprim_Tab 200mg': 140,\n",
       "             'Trimethoprim_Oral Susp 50mg/5ml S/F': 30,\n",
       "             'Metronidazole_Tab 400mg': 54,\n",
       "             'Ciprofloxacin_Tab 500mg': 31,\n",
       "             'Nitrofurantoin_Cap 50mg': 53,\n",
       "             'Nitrofurantoin_Tab 50mg': 22,\n",
       "             'Nitrofurantoin_Tab 100mg': 10,\n",
       "             'Nitrofurantoin_Cap 100mg M/R': 119,\n",
       "             'Fluconazole_Cap 50mg': 18,\n",
       "             'Fluconazole_Cap 150mg': 18,\n",
       "             'Itraconazole_Cap 100mg': 16,\n",
       "             'Nystan_Susp (Ready Mixed)': 43,\n",
       "             'Terbinafine HCl_Tab 250mg': 31,\n",
       "             'Valaciclovir_Tab 500mg': 2,\n",
       "             'Aciclovir_Tab 400mg': 43,\n",
       "             'Aciclovir_Tab 800mg': 18,\n",
       "             'Aciclovir_Tab Disper 800mg': 2,\n",
       "             'Aciclovir_Tab Disper 200mg': 6,\n",
       "             'Quinine Sulf_Tab 200mg': 163,\n",
       "             'Quinine Sulf_Tab 300mg': 142,\n",
       "             'Ins Aspart_Inj 100u/ml 3ml Cart': 6,\n",
       "             'Ins NovoRapid_Penfill 100u/ml 3ml Cart': 91,\n",
       "             'Ins NovoRapid_FlexPen 100u/ml 3ml Pf Pen': 90,\n",
       "             'Ins Humalog_100u/ml 3ml Cart': 10,\n",
       "             'Ins Humulin M3_100u/ml 3ml Cart': 11,\n",
       "             'Ins Humulin M3_KwikPen 100u/ml 3ml PfPen': 25,\n",
       "             'Ins Humalog Mix 50_100u/ml 3ml Cart': 4,\n",
       "             'Ins Innolet Insulat_100u/ml 3ml Pf Pen': 7,\n",
       "             'Ins Humulin I_100u/ml 3ml Cart': 3,\n",
       "             'Ins Lantus_100u/ml 3ml Cart': 40,\n",
       "             'Ins Lantus SoloStar_100u/ml 3ml Pf Pen': 162,\n",
       "             'Ins NovoMix 30_Penfill 100u/ml 3ml Cart': 24,\n",
       "             'Ins NovoMix 30_FlexPen 100u/ml 3ml PfPen': 50,\n",
       "             'Ins Levemir_Penfill 100u/ml 3ml Cart': 19,\n",
       "             'Ins Levemir_FlexPen 100u/ml 3ml Pf Pen': 44,\n",
       "             'Glimepiride_Tab 2mg': 15,\n",
       "             'Glimepiride_Tab 1mg': 16,\n",
       "             'Glimepiride_Tab 3mg': 5,\n",
       "             'Glimepiride_Tab 4mg': 31,\n",
       "             'Gliclazide_Tab 80mg': 362,\n",
       "             'Gliclazide_Tab 40mg': 40,\n",
       "             'Glipizide_Tab 5mg': 2,\n",
       "             'Metformin HCl_Tab 500mg': 1186,\n",
       "             'Metformin HCl_Tab 850mg': 56,\n",
       "             'Metformin HCl_Oral Soln 500mg/5ml S/F': 8,\n",
       "             'Metformin HCl_Tab 500mg M/R': 328,\n",
       "             'Metformin HCl_Tab 750mg M/R': 8,\n",
       "             'Metformin HCl_Tab 1g M/R': 253,\n",
       "             'Liraglutide_Inj 6mg/ml 3ml PF Pen': 21,\n",
       "             'Saxagliptin_Tab 5mg': 16,\n",
       "             'Saxagliptin_Tab 2.5mg': 10,\n",
       "             'Metformin HCl/Sitagliptin_Tab 1g/50mg': 3,\n",
       "             'Linagliptin_Tab 5mg': 104,\n",
       "             'Dapagliflozin_Tab 5mg': 14,\n",
       "             'Dapagliflozin_Tab 10mg': 145,\n",
       "             'Forxiga_Tab 10mg': 14,\n",
       "             'Lixisenatide_Inj 20mcg/0.2ml 3ml Pf Pen': 6,\n",
       "             'Pioglitazone HCl_Tab 15mg': 14,\n",
       "             'Pioglitazone HCl_Tab 30mg': 29,\n",
       "             'Repaglinide_Tab 1mg': 2,\n",
       "             'Sitagliptin_Tab 100mg': 310,\n",
       "             'Sitagliptin_Tab 50mg': 33,\n",
       "             'Sitagliptin_Tab 25mg': 13,\n",
       "             'Exenatide_Inj 10mcg/0.04ml 2.4mlPfs(60D)': 8,\n",
       "             'Vildagliptin/Metformin HCl_Tab 50mg/1g': 5,\n",
       "             'Glucose_Gel 40%': 12,\n",
       "             'GlucoGel_Gel 40% (Original)': 17,\n",
       "             'OneTouch Ultra (Reagent)_Strips': 5,\n",
       "             'GlucoMen LX Sensor (Reagent)_Strips': 4,\n",
       "             'Active (Reagent)_Strips': 88,\n",
       "             'FreeStyle (Reagent)_Strips': 11,\n",
       "             'FreeStyle Lite (Reagent)_Strips': 15,\n",
       "             'Aviva (Reagent)_Strips': 61,\n",
       "             'Mobile (Reagent)_Strips': 53,\n",
       "             'GlucoRx Nexus (Reagent)_Strips': 99,\n",
       "             'Omnitest 3 (Reagent)_Strips': 66,\n",
       "             'Contour Next (Reagent)_Strips': 23,\n",
       "             'TRUEyou (Reagent)_Strips': 7,\n",
       "             'Performa (Reagent)_Strips': 88,\n",
       "             'Ketostix (Reagent)_Strips': 13,\n",
       "             'GlucoMen LX Ketone Reagent_Strips': 4,\n",
       "             'Levothyrox Sod_Tab 25mcg': 1071,\n",
       "             'Levothyrox Sod_Tab 50mcg': 1008,\n",
       "             'Levothyrox Sod_Tab 100mcg': 1027,\n",
       "             'Carbimazole_Tab 5mg': 43,\n",
       "             'Carbimazole_Tab 20mg': 6,\n",
       "             'Propylthiouracil_Tab 50mg': 4,\n",
       "             'Fludrocort Acet_Tab 100mcg': 58,\n",
       "             'Hydrocort_Tab 10mg': 55,\n",
       "             'Prednisolone_Tab 1mg': 106,\n",
       "             'Prednisolone_Tab 2.5mg': 6,\n",
       "             'Prednisolone_Tab 5mg': 612,\n",
       "             'Prednisolone_Tab E/C 2.5mg': 54,\n",
       "             'Prednisolone_Tab E/C 5mg': 30,\n",
       "             'Prednisolone_Tab 25mg': 2,\n",
       "             'Prednisolone_Tab Solb 5mg': 7,\n",
       "             'Estradiol_Tab 2mg': 15,\n",
       "             'Estraderm MX 100_Patch': 3,\n",
       "             'Evorel 75_Patch': 5,\n",
       "             'Estradiol_Val Tab 1mg': 13,\n",
       "             'Estradiol_Val Tab 2mg': 14,\n",
       "             'Estradiol/Norethist Acet_Tab 2mg/1mg': 3,\n",
       "             'Estradiol/Norethist Acet_Tab 1mg/0.5mg': 11,\n",
       "             'Evorel Conti_Patch': 11,\n",
       "             'Evorel Sequi_Patch': 5,\n",
       "             'Elleste Duet_Tab 2mg': 14,\n",
       "             'Elleste Duet_Tab 1mg': 23,\n",
       "             'Elleste Duet Conti_Tab': 5,\n",
       "             'Kliovance_Tab': 25,\n",
       "             'Prempak-C_C/Pk Tab 625mcg/150mcg': 2,\n",
       "             'Premique_Tab 0.625mg/5mg': 3,\n",
       "             'Premique_Low D Tab 0.3mg/1.5mg': 3,\n",
       "             'Tibolone_Tab 2.5mg': 11,\n",
       "             'Norethist_Tab 5mg': 17,\n",
       "             'Utovlan_Tab 5mg': 10,\n",
       "             'Finasteride_Tab 5mg': 357,\n",
       "             'Testosterone_Gel 2% (10mg per actuation)': 14,\n",
       "             'Testosterone Undecan_Inj 250mg/ml 4ml Vl': 4,\n",
       "             'Genotropin GoQuick_Inj 5.3mg Pfs Cart': 3,\n",
       "             'Desmopressin Acet_I/Nsl Spy 10mcg (60 D)': 2,\n",
       "             'Alendronic Acid_Tab 70mg': 677,\n",
       "             'Risedronate Sod_Tab 5mg': 11,\n",
       "             'Risedronate Sod_Tab 35mg': 69,\n",
       "             'Ibandronic Acid_Tab 150mg': 18,\n",
       "             'Strontium Ranelate_Susp Gran Sach 2g S/F': 5,\n",
       "             'Denosumab_Inj 60mg/1ml Pfs': 2,\n",
       "             'Cabergoline_Tab 0.5mg': 9,\n",
       "             'Estriol_Crm 0.1% + Applic': 38,\n",
       "             'Estriol_Crm 0.01% + Applic': 33,\n",
       "             'Estradiol_Pess 10mcg': 70,\n",
       "             'Vagifem_Vag Tab 10mcg': 45,\n",
       "             'Clotrimazole_Crm 2%': 26,\n",
       "             'Clotrimazole_Pess 500mg/Crm 2%': 26,\n",
       "             'Ethinylest/Desogestrel_Tab 20mcg/150mcg': 2,\n",
       "             'Gedarel_Tab 20/150mcg': 8,\n",
       "             'Ethinylest/Desogestrel_Tab 30mcg/150mcg': 12,\n",
       "             'Ethinylest/Levonorgest_Tab 30/150mcg': 22,\n",
       "             'Ethinylestr/Drospirenone_Tab 30mcg/3mg': 3,\n",
       "             'Microgynon 30_Tab': 28,\n",
       "             'Loestrin 30_Tab': 5,\n",
       "             'Rigevidon_Tab': 100,\n",
       "             'Gedarel_Tab 30/150mcg': 29,\n",
       "             'Millinette_Tab 30/75mcg': 4,\n",
       "             'Lucette_Tab 0.03mg/3mg': 13,\n",
       "             'Ethinylest/Norgestimate_Tab 35mcg/250mcg': 4,\n",
       "             'Cilest_Tab': 26,\n",
       "             'Cilique_Tab': 5,\n",
       "             'TriRegol_Tab': 4,\n",
       "             'Norethist_Tab 350mcg': 17,\n",
       "             'Noriday_Tab 350mcg': 23,\n",
       "             'Desogestrel_Tab 75mcg': 73,\n",
       "             'Cerazette_Tab 75mcg': 27,\n",
       "             'Cerelle_Tab 75mcg': 172,\n",
       "             'Depo-Provera_Inj 150mg/ml 1ml Pfs': 53,\n",
       "             'Alfuzosin HCl_Tab 10mg M/R': 73,\n",
       "             'Tamsulosin HCl_Cap 400mcg M/R': 793,\n",
       "             'Duloxetine HCl_Cap G/R 20mg': 14,\n",
       "             'Solifenacin_Tab 5mg': 97,\n",
       "             'Solifenacin_Tab 10mg': 51,\n",
       "             'Darifenacin Hydrob_Tab 15mg M/R': 18,\n",
       "             'Fesoterodine Fumar_Tab 4mg M/R': 19,\n",
       "             'Fesoterodine Fumar_Tab 8mg M/R': 38,\n",
       "             'Mirabegron_Tab 50mg M/R': 72,\n",
       "             'Oxybutynin HCl_Tab 2.5mg': 47,\n",
       "             'Oxybutynin HCl_Tab 5mg': 35,\n",
       "             'Oxybutynin HCl_Tab 5mg M/R': 24,\n",
       "             'Oxybutynin HCl_Tab 10mg M/R': 12,\n",
       "             'Tolterodine_Tab 1mg': 13,\n",
       "             'Tolterodine_Tab 2mg': 26,\n",
       "             'Neditol XL_Cap 4mg': 47,\n",
       "             'Trospium Chlor_Tab 20mg': 23,\n",
       "             'Trospium Chlor_Cap 60mg M/R': 74,\n",
       "             'Regurin XL_Cap 60mg': 18,\n",
       "             'Tadalafil_Tab 10mg': 6,\n",
       "             'Tadalafil_Tab 20mg': 40,\n",
       "             'Tadalafil_Tab 5mg': 12,\n",
       "             'Cialis_Tab 20mg': 5,\n",
       "             'Sildenafil_Tab 50mg': 160,\n",
       "             'Sildenafil_Tab 25mg': 12,\n",
       "             'Sildenafil_Tab 100mg': 223,\n",
       "             'Hydroxycarbamide_Cap 500mg': 16,\n",
       "             'Azathioprine_Tab 25mg': 22,\n",
       "             'Azathioprine_Tab 50mg': 72,\n",
       "             'Neoral_Cap 50mg': 2,\n",
       "             'Prograf_Cap 1mg': 6,\n",
       "             'Prograf_Cap 500mcg': 2,\n",
       "             'Diethylstilbestrol_Tab 1mg': 10,\n",
       "             'Anastrozole_Tab 1mg': 80,\n",
       "             'Letrozole_Tab 2.5mg': 56,\n",
       "             'Tamoxifen Cit_Tab 20mg': 80,\n",
       "             'Bicalutamide_Tab 50mg': 9,\n",
       "             'Zoladex LA_Implant 10.8mg SafeSystem Pfs': 14,\n",
       "             'Leuprorelin Acet_Inj 11.25mg Dil + Pfs': 7,\n",
       "             'Prostap 3_DCS Inj 11.25mg Dil + Pfs': 2,\n",
       "             'Ferr Fumar_Tab 210mg': 499,\n",
       "             'Ferr Fumar_Cap 305mg': 8,\n",
       "             'Ferr Fumar_Tab 322mg': 3,\n",
       "             'Ferr Sulf_Tab 200mg': 225,\n",
       "             'Ferrograd_Filmtab': 6,\n",
       "             'Cyanocobalamin_Tab 50mcg': 48,\n",
       "             'Folic Acid_Tab 5mg': 524,\n",
       "             'Hydroxocobalamin_Inj 1mg/ml 1ml Amp': 428,\n",
       "             'Dioralyte_Pdr Sach (Blkcurrant)': 21,\n",
       "             'Sod Chlor_Tab 600mg M/R': 18,\n",
       "             'Slow Sod_Tab 600mg': 5,\n",
       "             'Sod Bicarb_Cap 500mg': 53,\n",
       "             'Water For Inj_5ml Amp': 6,\n",
       "             'Juvela_G/F W/F Pure Oats': 7,\n",
       "             'Glutafin_G/F W/F Cracker': 5,\n",
       "             'Glutafin_G/F W/F Mini Cracker': 5,\n",
       "             'Juvela_G/F Fibre Loaf Brown (Cut)': 9,\n",
       "             'Juvela_G/F Bread Roll Wte': 4,\n",
       "             'Juvela_G/F Fresh Loaf Wte (Cut)': 6,\n",
       "             'Juvela_G/F Fresh Fibre Loaf (Cut)': 2,\n",
       "             'Glutafin Select_G/F Loaf Wte (Cut)': 6,\n",
       "             'Glutafin_G/F Fibre Roll x 4 P/bake': 3,\n",
       "             'Orgran_G/F Self Raising Flour': 4,\n",
       "             'Glucose_Tab': 24,\n",
       "             'Glucotabs_Tab (Tangy Orange)': 2,\n",
       "             'Glutafin_G/F Fibre Fusilli': 3,\n",
       "             'Calogen_Emuls (Sbery)': 2,\n",
       "             'Nutramigen 2 LIPIL_Pdr': 10,\n",
       "             'Nutramigen 1 LIPIL_Pdr': 18,\n",
       "             'Neocate LCP_Pdr': 11,\n",
       "             'Juvela_G/F Fibre Mix': 2,\n",
       "             'Juvela_G/F Mix Wte': 12,\n",
       "             'Glutafin_G/F Multipurpose Wte Mix': 3,\n",
       "             'Glutafin_G/F W/F Spaghetti': 4,\n",
       "             'Glutafin_G/F W/F Tagliatelle Nest': 3,\n",
       "             'Juvela_G/F W/F Spaghetti': 5,\n",
       "             'Pro-Cal_Pdr': 2,\n",
       "             'Foodlink_Complete Pdr (4 Flav)': 38,\n",
       "             'PaediaSure Plus Fibre_Liq (3 Flav)': 7,\n",
       "             'Jevity 1.5kcal_Liq': 8,\n",
       "             'Ensure Plus Juce_Liq Feed (6 Flav)': 22,\n",
       "             'Complan_Shake Pdr Sach 57g (Sbery)': 19,\n",
       "             'Ensure Plus_Milkshake Style Liq(10 Flav)': 126,\n",
       "             'Ensure TwoCal_Liq (4 Flav)': 21,\n",
       "             'Ensure Shake_Oral Pdr Sach 57g (Banana)': 2,\n",
       "             'Ensure Compact_Liq (4 Flav)': 23,\n",
       "             'Calc Carb_Tab Chble 1.25g (500mg) S/F': 19,\n",
       "             'Calc Carb_Tab Chble 1.5g (600mg) S/F': 19,\n",
       "             'Calcichew_Tab Chble 1.25g (500mg)': 20,\n",
       "             'MagnaPhate_Tab Chble 97.2mg': 13,\n",
       "             'Calc Acet_Tab 1g': 2,\n",
       "             'Pyridox HCl_Tab 50mg': 6,\n",
       "             'Thiamine HCl_Tab 50mg': 45,\n",
       "             'Thiamine HCl_Tab 100mg': 341,\n",
       "             'Vit B Co Strong_Tab': 392,\n",
       "             'Alfacalcidol_Cap 250ng': 40,\n",
       "             'Alfacalcidol_Cap 1mcg': 12,\n",
       "             'Colecal_Cap 800u': 29,\n",
       "             'Colecal & Calc_Tab Chble 200u/1.25g': 32,\n",
       "             'Colecal & Calc_Tab Chble 400u/1.25g': 234,\n",
       "             'Colecal/Calc_Eff Gran Sach 440u/1.25g 4g': 5,\n",
       "             'Colecal & Calc_Tab Chble 400u/1.5g': 431,\n",
       "             'Colecal_Tab 800u': 10,\n",
       "             'Colecal_Cap 20 000u': 5,\n",
       "             'Pro D3_Cap 400u': 9,\n",
       "             'Pro D3_Cap 1 000u': 10,\n",
       "             'Pro D3_Cap 20 000u': 9,\n",
       "             'Accrete D3_Tab': 108,\n",
       "             'Adcal-D3_Tab Chble (Tutti-Frutti)': 257,\n",
       "             'Adcal-D3_Tab Chble (Lem)': 28,\n",
       "             'Calceos_Tab Chble 500mg/400u': 124,\n",
       "             'Calcichew D3_Tab Chble': 40,\n",
       "             'Calcichew D3 Fte_Tab Chble': 59,\n",
       "             'Fultium-D3_Cap 800u': 195,\n",
       "             'Fultium-D3_Cap 20 000u': 2,\n",
       "             'Hux D3_Cap 20 000u': 166,\n",
       "             'Desunin_Tab 800u': 5,\n",
       "             'Forceval_Cap': 48,\n",
       "             'Abidec_Dps': 3,\n",
       "             'Forceval_Tab Solb': 8,\n",
       "             'Renavit_Tab': 6,\n",
       "             'Similac High Energy_Liq': 4,\n",
       "             'Preservision_Original Cap': 10,\n",
       "             'Preservision_Lutein Cap': 257,\n",
       "             'ICaps OAD_Tab': 10,\n",
       "             'Celecoxib_Cap 200mg': 15,\n",
       "             'Etoricoxib_Tab 90mg': 11,\n",
       "             'Diclofenac Sod_Tab E/C 50mg': 30,\n",
       "             'Diclofenac Sod_Tab 100mg M/R': 3,\n",
       "             'Diclofenac Sod_Cap 75mg M/R': 4,\n",
       "             'Ibuprofen_Tab 200mg': 9,\n",
       "             'Ibuprofen_Tab 400mg': 81,\n",
       "             'Ibuprofen_Oral Susp 100mg/5ml S/F': 6,\n",
       "             'Indometacin_Cap 25mg': 3,\n",
       "             'Mefenamic Acid_Tab 500mg': 13,\n",
       "             'Naproxen_Tab 250mg': 237,\n",
       "             'Naproxen_Tab 500mg': 288,\n",
       "             'Naproxen_Tab E/C 250mg': 8,\n",
       "             'Naproxen_Tab E/C 500mg': 4,\n",
       "             'Nabumetone_Tab 500mg': 4,\n",
       "             'Methylpred Acet_Inj 40mg/ml 1ml Vl': 8,\n",
       "             'Triamcinol Aceton_Inj 40mg/ml 1ml Vl': 7,\n",
       "             'Hydroxychlor Sulf_Tab 200mg': 158,\n",
       "             'Methotrexate_Tab 2.5mg': 235,\n",
       "             'Allopurinol_Tab 100mg': 331,\n",
       "             'Allopurinol_Tab 300mg': 219,\n",
       "             'Colchicine_Tab 500mcg': 52,\n",
       "             'Baclofen_Oral Soln 5mg/5ml S/F': 19,\n",
       "             'Baclofen_Tab 10mg': 79,\n",
       "             'Tizanidine HCl_Tab 4mg': 6,\n",
       "             'Tizanidine HCl_Tab 2mg': 20,\n",
       "             'Capsaicin_Crm 0.075%': 6,\n",
       "             'Ibuprofen_Gel 5%': 33,\n",
       "             'Fenbid_Gel 5%': 392,\n",
       "             'Fenbid Fte_Gel 10%': 96,\n",
       "             'Piroxicam_Gel 0.5%': 26,\n",
       "             'Diclofenac Sod_Gel 1.16%': 82,\n",
       "             'Voltarol Emulgel_Aq Gel 1.16%': 14,\n",
       "             'Salicylic Acid/Mucopolysac_Gel 2%/0.2%': 5,\n",
       "             'Movelat_Gel': 9,\n",
       "             'Ketoprofen_Gel 2.5%': 14,\n",
       "             'Chloramphen_Eye Dps 0.5%': 78,\n",
       "             'Chloramphen_Eye Oint 1%': 48,\n",
       "             'Fusidic Acid_Viscous Eye Dps 1%': 25,\n",
       "             'Betameth Sod Phos_Ear/Eye/Nsl Dps 0.1%': 8,\n",
       "             'Dexameth_Eye Dps 0.1%': 13,\n",
       "             'Maxitrol_Eye Dps': 5,\n",
       "             'Pred Fte_Eye Dps 1%': 17,\n",
       "             'Sod Cromoglicate_Eye Dps Aq 2%': 50,\n",
       "             'Opticrom_Eye Dps 2% (Aq)': 3,\n",
       "             'Olopatadine_Eye Dps 1mg/ml': 13,\n",
       "             'Opatanol_Eye Dps 1mg/ml': 5,\n",
       "             'Atrop Sulf_Eye Dps 1%': 6,\n",
       "             'Brimonidine Tart_Eye Dps 0.2%': 33,\n",
       "             'Dorzolamide/Timolol_Eye Dps 2%/0.5%': 33,\n",
       "             'Dorzolamide/Timolol_EyeDps2/0.5% 0.2mlUd': 12,\n",
       "             'Brinzolamide_Eye Dps 10mg/ml': 110,\n",
       "             'Latanoprost/Timolol_Eye Dps 50mcg/5mg/ml': 71,\n",
       "             'Travoprost_Eye Dps 40mcg/ml': 15,\n",
       "             'Travatan_Eye Dps 40mcg/ml': 2,\n",
       "             'Bimatoprost_Eye Dps 100mcg/ml': 61,\n",
       "             'Bimatoprost_Eye Dps 300mcg/ml 0.4ml Ud': 7,\n",
       "             'Brimonidine/Timolol_Eye Dps 2mg/5mg/ml': 4,\n",
       "             'Travoprost/Timolol_Eye Dps 40mcg/5mg': 17,\n",
       "             'Bimatoprost/Timolol_Eye Dps 300mcg/5mg': 56,\n",
       "             'Ganfort_Eye Dps 300mcg/5mg': 32,\n",
       "             'Brinzolamide/Timolol_Eye Dps 10mg/5mg/ml': 11,\n",
       "             'Tafluprost_Eye Dps 15mcg/ml 0.3ml Ud P/F': 9,\n",
       "             'Saflutan_Eye Dps 15mcg/ml 0.3ml Ud': 5,\n",
       "             ...})"
      ]
     },
     "execution_count": 40,
     "metadata": {},
     "output_type": "execute_result"
    }
   ],
   "source": [
    "final[\"SK11 6JL\"]"
   ]
  },
  {
   "cell_type": "code",
   "execution_count": 42,
   "metadata": {},
   "outputs": [
    {
     "data": {
      "text/plain": [
       "'Omeprazole_Cap E/C 20mg'"
      ]
     },
     "execution_count": 42,
     "metadata": {},
     "output_type": "execute_result"
    }
   ],
   "source": [
    "max(final[\"SK11 6JL\"], key=final[\"SK11 6JL\"].get)"
   ]
  },
  {
   "cell_type": "code",
   "execution_count": 43,
   "metadata": {},
   "outputs": [
    {
     "data": {
      "text/plain": [
       "3219"
      ]
     },
     "execution_count": 43,
     "metadata": {},
     "output_type": "execute_result"
    }
   ],
   "source": [
    "final[\"SK11 6JL\"]['Omeprazole_Cap E/C 20mg']"
   ]
  },
  {
   "cell_type": "code",
   "execution_count": null,
   "metadata": {},
   "outputs": [],
   "source": [
    "for k,v in final.items():\n",
    "    max(final[k],key=final.ge)"
   ]
  },
  {
   "cell_type": "code",
   "execution_count": 47,
   "metadata": {},
   "outputs": [],
   "source": [
    "answer={}\n",
    "for key,value in final.items():\n",
    "    int_keys={}\n",
    "    for k,v in value.items():\n",
    "        if v in int_keys:\n",
    "            int_keys[v]=min(int_keys[v],k)\n",
    "        else:\n",
    "            int_keys[v]=k\n",
    "    \n",
    "    answer[key]=int_keys\n",
    "    \n",
    "    "
   ]
  },
  {
   "cell_type": "code",
   "execution_count": 51,
   "metadata": {},
   "outputs": [
    {
     "data": {
      "text/plain": [
       "3219"
      ]
     },
     "execution_count": 51,
     "metadata": {},
     "output_type": "execute_result"
    }
   ],
   "source": [
    "max(answer[\"SK11 6JL\"])"
   ]
  },
  {
   "cell_type": "code",
   "execution_count": 97,
   "metadata": {},
   "outputs": [],
   "source": [
    "def sum_post(post_k):\n",
    "    sum=0\n",
    "    for li in group_by_post[post_k]:\n",
    "        sum=sum+li[\"items\"]\n",
    "    return sum\n",
    "    \n",
    "    "
   ]
  },
  {
   "cell_type": "code",
   "execution_count": 64,
   "metadata": {},
   "outputs": [],
   "source": [
    "plus=0\n",
    "for j in joined:\n",
    "    plus=plus+j[\"items\"]"
   ]
  },
  {
   "cell_type": "code",
   "execution_count": 98,
   "metadata": {
    "scrolled": true
   },
   "outputs": [
    {
     "data": {
      "text/plain": [
       "20673"
      ]
     },
     "execution_count": 98,
     "metadata": {},
     "output_type": "execute_result"
    }
   ],
   "source": [
    "sum_post(\"B11 4BW\")"
   ]
  },
  {
   "cell_type": "code",
   "execution_count": 74,
   "metadata": {},
   "outputs": [
    {
     "data": {
      "text/plain": [
       "4410054"
      ]
     },
     "execution_count": 74,
     "metadata": {},
     "output_type": "execute_result"
    }
   ],
   "source": [
    "plus"
   ]
  },
  {
   "cell_type": "code",
   "execution_count": 99,
   "metadata": {},
   "outputs": [],
   "source": [
    "submit=[]\n",
    "for k,v in answer.items():\n",
    "    submit.append((k,v[max(v)],max(v)/sum_post(k)))\n",
    "\n",
    "    "
   ]
  },
  {
   "cell_type": "code",
   "execution_count": 100,
   "metadata": {},
   "outputs": [
    {
     "data": {
      "text/plain": [
       "('SK11 6JL', 'Omeprazole_Cap E/C 20mg', 0.029244760200234393)"
      ]
     },
     "execution_count": 100,
     "metadata": {},
     "output_type": "execute_result"
    }
   ],
   "source": [
    "submit[0]"
   ]
  },
  {
   "cell_type": "code",
   "execution_count": 101,
   "metadata": {},
   "outputs": [],
   "source": [
    "submit.sort()"
   ]
  },
  {
   "cell_type": "code",
   "execution_count": 102,
   "metadata": {},
   "outputs": [
    {
     "data": {
      "text/plain": [
       "('B11 4BW', 'Salbutamol_Inha 100mcg (200 D) CFF', 0.03415082474725487)"
      ]
     },
     "execution_count": 102,
     "metadata": {},
     "output_type": "execute_result"
    }
   ],
   "source": [
    "submit[0]"
   ]
  },
  {
   "cell_type": "code",
   "execution_count": 62,
   "metadata": {},
   "outputs": [
    {
     "data": {
      "text/plain": [
       "[{'bnf_code': '0101010G0AAABAB',\n",
       "  'items': 2,\n",
       "  'practice': 'N81013',\n",
       "  'bnf_name': 'Co-Magaldrox_Susp 195mg/220mg/5ml S/F',\n",
       "  'nic': 5.98,\n",
       "  'act_cost': 5.56,\n",
       "  'quantity': 1000,\n",
       "  'post_code': 'SK11 6JL'},\n",
       " {'bnf_code': '0101021B0AAAHAH',\n",
       "  'items': 1,\n",
       "  'practice': 'N81013',\n",
       "  'bnf_name': 'Alginate_Raft-Forming Oral Susp S/F',\n",
       "  'nic': 1.95,\n",
       "  'act_cost': 1.82,\n",
       "  'quantity': 500,\n",
       "  'post_code': 'SK11 6JL'}]"
      ]
     },
     "execution_count": 62,
     "metadata": {},
     "output_type": "execute_result"
    }
   ],
   "source": [
    "joined[:2]"
   ]
  },
  {
   "cell_type": "code",
   "execution_count": 63,
   "metadata": {},
   "outputs": [],
   "source": []
  },
  {
   "cell_type": "code",
   "execution_count": null,
   "metadata": {},
   "outputs": [],
   "source": []
  },
  {
   "cell_type": "code",
   "execution_count": 59,
   "metadata": {},
   "outputs": [],
   "source": [
    "grouped_by_post_bnf = group_by_field(joined,(\"post_code\",\"bnf_name\"))\n",
    "temp={}\n",
    "for key,values in grouped_by_post_bnf.items():\n",
    "    \n",
    "    total_items=0\n",
    "    for v in values:\n",
    "        total_items=total_items+v['items']\n",
    "    temp[key]=total_items"
   ]
  },
  {
   "cell_type": "code",
   "execution_count": null,
   "metadata": {},
   "outputs": [],
   "source": []
  },
  {
   "cell_type": "code",
   "execution_count": null,
   "metadata": {},
   "outputs": [],
   "source": [
    "len(grouped_by_post_bnf)"
   ]
  },
  {
   "cell_type": "code",
   "execution_count": null,
   "metadata": {},
   "outputs": [],
   "source": [
    "\n",
    "\n",
    "assert len(total_items_by_post_bnf) == 141196"
   ]
  },
  {
   "cell_type": "markdown",
   "metadata": {},
   "source": [
    "Next, let's take `total_items_by_post_bnf` and group it by `'post_code'`. In other words, we want a  data structure that maps a `'post_code'` to a list of all records that belong to that `'post_code'`. There should be 118 groups."
   ]
  },
  {
   "cell_type": "code",
   "execution_count": null,
   "metadata": {},
   "outputs": [],
   "source": [
    "grouped_post_code = group_by_field(joined,(\"post_code\",))\n",
    "\n",
    "assert len(grouped_post_code) == 118"
   ]
  },
  {
   "cell_type": "markdown",
   "metadata": {},
   "source": [
    "Now with `grouped_post_code`, let's iterate over each group and calculate the following fields for each `'post_code'`:\n",
    "1. the sum of total items for all `'bnf_name'`\n",
    "1. the most total items\n",
    "1. the `'bnf_name'` that had the most total items\n",
    "\n",
    "Once again, consider the best data structure(s) to use to represent the result. It may help to write and use a function when developing your solution."
   ]
  },
  {
   "cell_type": "code",
   "execution_count": null,
   "metadata": {},
   "outputs": [],
   "source": [
    "most_item_data_by_post = ..."
   ]
  },
  {
   "cell_type": "markdown",
   "metadata": {},
   "source": [
    "Now, we are ready to:\n",
    "1. calculate the ratio (the amount dispensed as proportion of total)\n",
    "1. [sort](https://docs.python.org/3/howto/sorting.html) alphabetically by the post code\n",
    "1. format the answer as a list of tuples\n",
    "1. take only the first 100 tuples\n",
    "1. submit to the grader"
   ]
  },
  {
   "cell_type": "code",
   "execution_count": 84,
   "metadata": {},
   "outputs": [
    {
     "data": {
      "text/plain": [
       "20673"
      ]
     },
     "execution_count": 84,
     "metadata": {},
     "output_type": "execute_result"
    }
   ],
   "source": [
    "p=0\n",
    "for li in group_by_post[\"B11 4BW\"]:\n",
    "    p=p+li[\"items\"]\n",
    "\n",
    "p"
   ]
  },
  {
   "cell_type": "code",
   "execution_count": 85,
   "metadata": {},
   "outputs": [
    {
     "data": {
      "text/plain": [
       "('B11 4BW', 'Salbutamol_Inha 100mcg (200 D) CFF', 0.0001600887426775273)"
      ]
     },
     "execution_count": 85,
     "metadata": {},
     "output_type": "execute_result"
    }
   ],
   "source": [
    "submit[0]"
   ]
  },
  {
   "cell_type": "code",
   "execution_count": 72,
   "metadata": {},
   "outputs": [],
   "source": [
    "items_by_region = [('B11 4BW', 'Salbutamol_Inha 100mcg (200 D) CFF', 0.0341508247)] * 100"
   ]
  },
  {
   "cell_type": "code",
   "execution_count": 103,
   "metadata": {},
   "outputs": [],
   "source": [
    "items_by_region=submit[:100]"
   ]
  },
  {
   "cell_type": "code",
   "execution_count": 104,
   "metadata": {},
   "outputs": [
    {
     "name": "stdout",
     "output_type": "stream",
     "text": [
      "==================\n",
      "Your score: 1.000\n",
      "==================\n"
     ]
    }
   ],
   "source": [
    "grader.score.pw__items_by_region(items_by_region)"
   ]
  },
  {
   "cell_type": "markdown",
   "metadata": {},
   "source": [
    "*Copyright &copy; 2021 WorldQuant University. This content is licensed solely for personal use. Redistribution or publication of this material is strictly prohibited.*"
   ]
  }
 ],
 "metadata": {
  "kernelspec": {
   "display_name": "Python 3",
   "language": "python",
   "name": "python3"
  },
  "language_info": {
   "codemirror_mode": {
    "name": "ipython",
    "version": 3
   },
   "file_extension": ".py",
   "mimetype": "text/x-python",
   "name": "python",
   "nbconvert_exporter": "python",
   "pygments_lexer": "ipython3",
   "version": "3.8.8"
  },
  "nbclean": true
 },
 "nbformat": 4,
 "nbformat_minor": 1
}
